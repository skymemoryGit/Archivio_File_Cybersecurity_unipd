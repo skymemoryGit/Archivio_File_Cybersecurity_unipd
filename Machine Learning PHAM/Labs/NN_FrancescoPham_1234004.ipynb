{
 "cells": [
  {
   "cell_type": "markdown",
   "metadata": {},
   "source": [
    "# Neural Networks for Classification\n",
    "\n",
    "In this notebook we are going to explore the use of Neural Networks for image classification. We are going to use a dataset of small images of clothes and accessories, the Fashion MNIST. You can find more information regarding the dataset here: https://pravarmahajan.github.io/fashion/\n",
    "\n",
    "Each instance in the dataset consist of an image, in a format similar to the digit images you have seen in the previous homework, and a label. The labels correspond to the type of clothing, as follows:\n",
    "\n",
    "| Label | Description |\n",
    "| --- | --- |\n",
    "| 0 | T-shirt/top |\n",
    "| 1 | Trouser |\n",
    "| 2 | Pullover |\n",
    "| 3 | Dress |\n",
    "| 4 | Coat |\n",
    "| 5 | Sandal |\n",
    "| 6 | Shirt |\n",
    "| 7 | Sneaker |\n",
    "| 8 | Bag |\n",
    "| 9 | Ankle boot |"
   ]
  },
  {
   "cell_type": "markdown",
   "metadata": {},
   "source": [
    "Let's first load the required packages."
   ]
  },
  {
   "cell_type": "code",
   "execution_count": 233,
   "metadata": {},
   "outputs": [],
   "source": [
    "#load the required packages\n",
    "\n",
    "%matplotlib inline  \n",
    "\n",
    "import numpy as np\n",
    "import scipy as sp\n",
    "import matplotlib.pyplot as plt\n",
    "\n",
    "import sklearn\n",
    "from sklearn.neural_network import MLPClassifier\n",
    "from sklearn.model_selection import GridSearchCV"
   ]
  },
  {
   "cell_type": "markdown",
   "metadata": {},
   "source": [
    "The following is a function to load the data, that we are going to use later in the notebook."
   ]
  },
  {
   "cell_type": "code",
   "execution_count": 234,
   "metadata": {},
   "outputs": [],
   "source": [
    "# helper function to load Fashion MNIST dataset from disk\n",
    "def load_fashion_mnist(path, kind='train'):\n",
    "    import os\n",
    "    import gzip\n",
    "    import numpy as np\n",
    "    labels_path = os.path.join(path, '%s-labels-idx1-ubyte.gz' % kind)\n",
    "    images_path = os.path.join(path, '%s-images-idx3-ubyte.gz' % kind)\n",
    "    with gzip.open(labels_path, 'rb') as lbpath:\n",
    "        labels = np.frombuffer(lbpath.read(), dtype=np.uint8,offset=8)\n",
    "    with gzip.open(images_path, 'rb') as imgpath:\n",
    "        images = np.frombuffer(imgpath.read(), dtype=np.uint8,offset=16).reshape(len(labels), 784)\n",
    "    return images, labels"
   ]
  },
  {
   "cell_type": "markdown",
   "metadata": {},
   "source": [
    "## TO DO 0\n",
    "Place your ID (\"numero di matricola\") that will be used as seed for random generator. Change the ID number in case you observe unexpected behaviours and want to test if this is due to randomization (e.g., train/test split). If you change the ID number explain why you have change it."
   ]
  },
  {
   "cell_type": "code",
   "execution_count": 235,
   "metadata": {},
   "outputs": [],
   "source": [
    "ID = 1234004\n",
    "np.random.seed(ID)"
   ]
  },
  {
   "cell_type": "markdown",
   "metadata": {},
   "source": [
    "Now we load the dataset using the function above."
   ]
  },
  {
   "cell_type": "code",
   "execution_count": 236,
   "metadata": {},
   "outputs": [],
   "source": [
    "#load the fashion MNIST dataset and normalize the features so that each value is in [0,1]\n",
    "X, y = load_fashion_mnist(\"data\")\n",
    "# rescale the data\n",
    "X = X / 255.0"
   ]
  },
  {
   "cell_type": "markdown",
   "metadata": {},
   "source": [
    "Now we split the data into training and test. Make sure that each label is present at least 10 times\n",
    "in the training set."
   ]
  },
  {
   "cell_type": "code",
   "execution_count": 237,
   "metadata": {},
   "outputs": [
    {
     "name": "stdout",
     "output_type": "stream",
     "text": [
      "Labels in training dataset:  [0 1 2 3 4 5 6 7 8 9]\n",
      "Frequencies in training dataset:  [62 59 40 48 49 54 48 44 48 48]\n"
     ]
    }
   ],
   "source": [
    "#random permute the data and split into training and test taking the first 500\n",
    "#data samples as training and the rest as test\n",
    "permutation = np.random.permutation(X.shape[0])\n",
    "\n",
    "X = X[permutation]\n",
    "y = y[permutation]\n",
    "\n",
    "m_training = 500\n",
    "\n",
    "X_train, X_test = X[:m_training], X[m_training:]\n",
    "y_train, y_test = y[:m_training], y[m_training:]\n",
    "\n",
    "labels, freqs = np.unique(y_train, return_counts=True)\n",
    "print(\"Labels in training dataset: \", labels)\n",
    "print(\"Frequencies in training dataset: \", freqs)\n"
   ]
  },
  {
   "cell_type": "markdown",
   "metadata": {},
   "source": [
    "The following function plots an image and the corresponding label, to be used to inspect the data when needed."
   ]
  },
  {
   "cell_type": "code",
   "execution_count": 238,
   "metadata": {},
   "outputs": [],
   "source": [
    "#function for plotting a image and printing the corresponding label\n",
    "def plot_input(X_matrix, labels, index):\n",
    "    print(\"INPUT:\")\n",
    "    plt.imshow(\n",
    "        X_matrix[index].reshape(28,28),\n",
    "        cmap          = plt.cm.gray_r,\n",
    "        interpolation = \"nearest\"\n",
    "    )\n",
    "    plt.show()\n",
    "    print(\"LABEL: %i\"%labels[index])\n",
    "    return"
   ]
  },
  {
   "cell_type": "markdown",
   "metadata": {},
   "source": [
    "Now let's test the function above and check few images."
   ]
  },
  {
   "cell_type": "code",
   "execution_count": 239,
   "metadata": {},
   "outputs": [
    {
     "name": "stdout",
     "output_type": "stream",
     "text": [
      "INPUT:\n"
     ]
    },
    {
     "data": {
      "image/png": "[encoded data removed]",
      "text/plain": [
       "<Figure size 432x288 with 1 Axes>"
      ]
     },
     "metadata": {
      "needs_background": "light"
     },
     "output_type": "display_data"
    },
    {
     "name": "stdout",
     "output_type": "stream",
     "text": [
      "LABEL: 2\n",
      "INPUT:\n"
     ]
    },
    {
     "data": {
      "image/png": "[encoded data removed]",
      "text/plain": [
       "<Figure size 432x288 with 1 Axes>"
      ]
     },
     "metadata": {
      "needs_background": "light"
     },
     "output_type": "display_data"
    },
    {
     "name": "stdout",
     "output_type": "stream",
     "text": [
      "LABEL: 8\n",
      "INPUT:\n"
     ]
    },
    {
     "data": {
      "image/png": "[encoded data removed]",
      "text/plain": [
       "<Figure size 432x288 with 1 Axes>"
      ]
     },
     "metadata": {
      "needs_background": "light"
     },
     "output_type": "display_data"
    },
    {
     "name": "stdout",
     "output_type": "stream",
     "text": [
      "LABEL: 6\n"
     ]
    }
   ],
   "source": [
    "#let's try the plotting function\n",
    "plot_input(X_train,y_train,10)\n",
    "plot_input(X_test,y_test,50)\n",
    "plot_input(X_test,y_test,300)"
   ]
  },
  {
   "cell_type": "markdown",
   "metadata": {},
   "source": [
    "## TO DO 1\n",
    "\n",
    "Now use a (feed-forward) Neural Network for prediction. Use the multi-layer perceptron (MLP) classifier MLPClassifier(...) in scikit-learn, with the following parameters: max_iter=300, alpha=1e-4, solver='sgd', tol=1e-4, learning_rate_init=.1, random_state=ID (this last parameter ensures the run is the same even if you run it more than once). The alpha parameter is the regularization parameter for L2 regularization that is used by the MLP in sklearn.\n",
    "\n",
    "Then, using the default activation function, pick four or five architectures to consider, with different numbers of hidden layers and different sizes. It is not necessary to create huge neural networks, you can limit to 3 layers and, for each layer, its maximum size can be of 100. You can evaluate the architectures you chose using the GridSearchCV with a 5-fold cross-validation, and use the results to pick the best architecture. The code below provides some architectures you can use, but you can choose other ones if you prefer.\n"
   ]
  },
  {
   "cell_type": "code",
   "execution_count": 240,
   "metadata": {},
   "outputs": [
    {
     "name": "stderr",
     "output_type": "stream",
     "text": [
      "/Users/pham/anaconda3/lib/python3.7/site-packages/sklearn/model_selection/_search.py:813: DeprecationWarning: The default of the `iid` parameter will change from True to False in version 0.22 and will be removed in 0.24. This will change numeric results when test-set sizes are unequal.\n",
      "  DeprecationWarning)\n"
     ]
    },
    {
     "name": "stdout",
     "output_type": "stream",
     "text": [
      "RESULTS FOR NN\n",
      "\n",
      "Best parameters set found: {'hidden_layer_sizes': (50,)}\n",
      "Score with best parameters: 0.694\n",
      "\n",
      "All scores on the grid: [0.5   0.694 0.652 0.688 0.428 0.614 0.518]\n"
     ]
    }
   ],
   "source": [
    "#MLPclassifier requires in input the parameter hidden_layer_sizes, that is a tuple specifying the number of \n",
    "#neurons in the hidden layers; for example: (10,) means that there is only 1 hidden layer with 10 neurons; \n",
    "#(10,50) means that there are 2 hidden layers, the first with 10 neurons, the second with 50 neurons\n",
    "\n",
    "#these are examples of possible architectures you can test, but feel free to use different architectures! \n",
    "hl_parameters = {'hidden_layer_sizes': [(10,), (50,), (75,), (100,), (10,10,), (50,50,), (50,50,50,)]}\n",
    "\n",
    "mlp_cv = MLPClassifier(max_iter=300, alpha=1e-4, solver='sgd', tol=1e-4, learning_rate_init=.1, random_state=ID)\n",
    "\n",
    "clf = GridSearchCV(mlp_cv, hl_parameters, cv=5)\n",
    "clf.fit(X_train, y_train)\n",
    "    \n",
    "print ('RESULTS FOR NN\\n')\n",
    "\n",
    "results = clf.cv_results_\n",
    "print(\"Best parameters set found:\", clf.best_params_)\n",
    "print(\"Score with best parameters:\", clf.best_score_)\n",
    "print(\"\\nAll scores on the grid:\", results[\"mean_test_score\"])"
   ]
  },
  {
   "cell_type": "markdown",
   "metadata": {},
   "source": [
    "## TO DO 2\n",
    "\n",
    "What do you observe for different architectures and their scores? How do the number of layers and their sizes affect the performances?"
   ]
  },
  {
   "cell_type": "markdown",
   "metadata": {
    "collapsed": true
   },
   "source": [
    "**Answer**: I observe that adding more than one hidden layer does not improve the performances of the model. With one hidden layer, the score increases as we increase the size of the layer until around 50 neurons, then it gets worse as we increase the size further."
   ]
  },
  {
   "cell_type": "markdown",
   "metadata": {},
   "source": [
    "## TO DO 3\n",
    "\n",
    "Now get training and test error (according to the initial split) for a NN with best parameters chosen from the cross-validation above (and learning the NN weights from the entire training set). Use verbose=True\n",
    "in input so to see how loss changes in iterations. (Note that the loss used by the MLPclassifier may be different from the 0-1 loss, also called *accuracy*.)"
   ]
  },
  {
   "cell_type": "code",
   "execution_count": 241,
   "metadata": {},
   "outputs": [
    {
     "name": "stdout",
     "output_type": "stream",
     "text": [
      "Iteration 1, loss = 2.24630223\n",
      "Iteration 2, loss = 1.60553541\n",
      "Iteration 3, loss = 1.12610339\n",
      "Iteration 4, loss = 1.08223761\n",
      "Iteration 5, loss = 0.88393465\n",
      "Iteration 6, loss = 0.72421339\n",
      "Iteration 7, loss = 0.71062573\n",
      "Iteration 8, loss = 0.67564529\n",
      "Iteration 9, loss = 0.59729332\n",
      "Iteration 10, loss = 0.52649643\n",
      "Iteration 11, loss = 0.49407167\n",
      "Iteration 12, loss = 0.46603068\n",
      "Iteration 13, loss = 0.45264681\n",
      "Iteration 14, loss = 0.41259077\n",
      "Iteration 15, loss = 0.36754254\n",
      "Iteration 16, loss = 0.38053177\n",
      "Iteration 17, loss = 0.34066452\n",
      "Iteration 18, loss = 0.30630765\n",
      "Iteration 19, loss = 0.34728724\n",
      "Iteration 20, loss = 0.28228788\n",
      "Iteration 21, loss = 0.27643987\n",
      "Iteration 22, loss = 0.28058263\n",
      "Iteration 23, loss = 0.22033056\n",
      "Iteration 24, loss = 0.33941224\n",
      "Iteration 25, loss = 0.31825837\n",
      "Iteration 26, loss = 0.23117572\n",
      "Iteration 27, loss = 0.18275091\n",
      "Iteration 28, loss = 0.18096823\n",
      "Iteration 29, loss = 0.14544434\n",
      "Iteration 30, loss = 0.17961585\n",
      "Iteration 31, loss = 0.12702468\n",
      "Iteration 32, loss = 0.11517946\n",
      "Iteration 33, loss = 0.11313185\n",
      "Iteration 34, loss = 0.10092227\n",
      "Iteration 35, loss = 0.09989888\n",
      "Iteration 36, loss = 0.11884627\n",
      "Iteration 37, loss = 0.08921207\n",
      "Iteration 38, loss = 0.07708474\n",
      "Iteration 39, loss = 0.06979238\n",
      "Iteration 40, loss = 0.06888830\n",
      "Iteration 41, loss = 0.07280833\n",
      "Iteration 42, loss = 0.10634913\n",
      "Iteration 43, loss = 0.06048516\n",
      "Iteration 44, loss = 0.11645975\n",
      "Iteration 45, loss = 0.06016103\n",
      "Iteration 46, loss = 0.04816657\n",
      "Iteration 47, loss = 0.04397449\n",
      "Iteration 48, loss = 0.04317497\n",
      "Iteration 49, loss = 0.03717710\n",
      "Iteration 50, loss = 0.03608817\n",
      "Iteration 51, loss = 0.03620399\n",
      "Iteration 52, loss = 0.03615695\n",
      "Iteration 53, loss = 0.03129528\n",
      "Iteration 54, loss = 0.03428569\n",
      "Iteration 55, loss = 0.02746940\n",
      "Iteration 56, loss = 0.02563710\n",
      "Iteration 57, loss = 0.02620797\n",
      "Iteration 58, loss = 0.02532426\n",
      "Iteration 59, loss = 0.02367391\n",
      "Iteration 60, loss = 0.02297554\n",
      "Iteration 61, loss = 0.02138546\n",
      "Iteration 62, loss = 0.02068644\n",
      "Iteration 63, loss = 0.02057549\n",
      "Iteration 64, loss = 0.01929788\n",
      "Iteration 65, loss = 0.01843785\n",
      "Iteration 66, loss = 0.01791670\n",
      "Iteration 67, loss = 0.01765624\n",
      "Iteration 68, loss = 0.01626164\n",
      "Iteration 69, loss = 0.01605142\n",
      "Iteration 70, loss = 0.01614538\n",
      "Iteration 71, loss = 0.01566675\n",
      "Iteration 72, loss = 0.01461739\n",
      "Iteration 73, loss = 0.01433290\n",
      "Iteration 74, loss = 0.01403600\n",
      "Iteration 75, loss = 0.01411444\n",
      "Iteration 76, loss = 0.01335958\n",
      "Iteration 77, loss = 0.01283192\n",
      "Iteration 78, loss = 0.01290983\n",
      "Iteration 79, loss = 0.01237174\n",
      "Iteration 80, loss = 0.01217404\n",
      "Iteration 81, loss = 0.01133004\n",
      "Iteration 82, loss = 0.01109450\n",
      "Iteration 83, loss = 0.01090322\n",
      "Iteration 84, loss = 0.01081155\n",
      "Iteration 85, loss = 0.01072963\n",
      "Iteration 86, loss = 0.01069411\n",
      "Iteration 87, loss = 0.01097227\n",
      "Iteration 88, loss = 0.00981639\n",
      "Iteration 89, loss = 0.00965050\n",
      "Iteration 90, loss = 0.00942861\n",
      "Iteration 91, loss = 0.00956309\n",
      "Iteration 92, loss = 0.00889921\n",
      "Iteration 93, loss = 0.00900845\n",
      "Iteration 94, loss = 0.00872496\n",
      "Iteration 95, loss = 0.00852666\n",
      "Iteration 96, loss = 0.00839671\n",
      "Iteration 97, loss = 0.00836104\n",
      "Iteration 98, loss = 0.00804885\n",
      "Iteration 99, loss = 0.00801507\n",
      "Iteration 100, loss = 0.00764814\n",
      "Iteration 101, loss = 0.00762857\n",
      "Iteration 102, loss = 0.00740127\n",
      "Iteration 103, loss = 0.00732784\n",
      "Iteration 104, loss = 0.00721840\n",
      "Iteration 105, loss = 0.00709993\n",
      "Iteration 106, loss = 0.00697147\n",
      "Iteration 107, loss = 0.00684245\n",
      "Iteration 108, loss = 0.00675262\n",
      "Iteration 109, loss = 0.00675138\n",
      "Iteration 110, loss = 0.00669652\n",
      "Iteration 111, loss = 0.00655822\n",
      "Iteration 112, loss = 0.00640959\n",
      "Iteration 113, loss = 0.00631237\n",
      "Iteration 114, loss = 0.00635294\n",
      "Iteration 115, loss = 0.00623894\n",
      "Iteration 116, loss = 0.00605814\n",
      "Iteration 117, loss = 0.00613681\n",
      "Iteration 118, loss = 0.00591918\n",
      "Iteration 119, loss = 0.00580206\n",
      "Iteration 120, loss = 0.00570096\n",
      "Iteration 121, loss = 0.00557258\n",
      "Iteration 122, loss = 0.00550172\n",
      "Iteration 123, loss = 0.00539746\n",
      "Iteration 124, loss = 0.00540260\n",
      "Iteration 125, loss = 0.00539218\n",
      "Iteration 126, loss = 0.00526466\n",
      "Iteration 127, loss = 0.00515042\n",
      "Iteration 128, loss = 0.00513816\n",
      "Iteration 129, loss = 0.00504553\n",
      "Iteration 130, loss = 0.00500519\n",
      "Iteration 131, loss = 0.00495056\n",
      "Iteration 132, loss = 0.00485719\n",
      "Iteration 133, loss = 0.00482867\n",
      "Iteration 134, loss = 0.00487506\n",
      "Iteration 135, loss = 0.00480540\n",
      "Iteration 136, loss = 0.00465091\n",
      "Iteration 137, loss = 0.00462826\n",
      "Iteration 138, loss = 0.00455586\n",
      "Iteration 139, loss = 0.00458166\n",
      "Iteration 140, loss = 0.00446547\n",
      "Iteration 141, loss = 0.00442593\n",
      "Iteration 142, loss = 0.00434382\n",
      "Iteration 143, loss = 0.00434867\n",
      "Iteration 144, loss = 0.00430115\n",
      "Iteration 145, loss = 0.00430422\n",
      "Iteration 146, loss = 0.00424859\n",
      "Iteration 147, loss = 0.00414896\n",
      "Training loss did not improve more than tol=0.000100 for 10 consecutive epochs. Stopping.\n",
      "\n",
      "RESULTS FOR BEST NN\n",
      "\n",
      "Best NN training error: 0.000000\n",
      "Best NN test error: 0.218471\n"
     ]
    }
   ],
   "source": [
    "#get training and test error for the best NN model from CV\n",
    "\n",
    "best_mlp = MLPClassifier(clf.best_params_['hidden_layer_sizes'], max_iter=300, alpha=1e-4, \n",
    "                    solver='sgd', tol=1e-4, learning_rate_init=.1, random_state=ID, verbose=True)\n",
    "\n",
    "# best_mlp = clf.best_estimator_\n",
    "\n",
    "# fit the model on the entire training set\n",
    "best_mlp.fit(X_train, y_train)\n",
    "\n",
    "#get the training and test error\n",
    "training_error = 1. - best_mlp.score(X_train,y_train)\n",
    "test_error = 1. - best_mlp.score(X_test,y_test)\n",
    "\n",
    "print ('\\nRESULTS FOR BEST NN\\n')\n",
    "\n",
    "print (\"Best NN training error: %f\" % training_error)\n",
    "print (\"Best NN test error: %f\" % test_error)"
   ]
  },
  {
   "cell_type": "markdown",
   "metadata": {},
   "source": [
    "## More data \n",
    "Now let's do the same but using 10000 (or less if it takes too long on your machine) data points for training. Use the same NN architectures as before, but you can try more if you want!"
   ]
  },
  {
   "cell_type": "code",
   "execution_count": 242,
   "metadata": {},
   "outputs": [
    {
     "name": "stdout",
     "output_type": "stream",
     "text": [
      "Labels and frequencies in training dataset: \n"
     ]
    },
    {
     "data": {
      "text/plain": [
       "(array([0, 1, 2, 3, 4, 5, 6, 7, 8, 9], dtype=uint8),\n",
       " array([1017,  996,  973, 1021,  996, 1014,  982, 1018, 1017,  966]))"
      ]
     },
     "execution_count": 242,
     "metadata": {},
     "output_type": "execute_result"
    }
   ],
   "source": [
    "X = X[permutation]\n",
    "y = y[permutation]\n",
    "\n",
    "m_training = 10000\n",
    "\n",
    "X_train, X_test = X[:m_training], X[m_training:]\n",
    "y_train, y_test = y[:m_training], y[m_training:]\n",
    "\n",
    "print(\"Labels and frequencies in training dataset: \")\n",
    "np.unique(y_train, return_counts=True)"
   ]
  },
  {
   "cell_type": "markdown",
   "metadata": {},
   "source": [
    "## TO DO 4\n",
    "\n",
    "Now train the NNs with the added data points. Feel free to try more different architectures than before if you want, or less if it takes too much time. You can use 'verbose=True' so have an idea of how long it takes to run 1 iteration (eventually reduce also the number of iterations to 50)."
   ]
  },
  {
   "cell_type": "code",
   "execution_count": 243,
   "metadata": {
    "scrolled": false
   },
   "outputs": [
    {
     "name": "stderr",
     "output_type": "stream",
     "text": [
      "/Users/pham/anaconda3/lib/python3.7/site-packages/sklearn/neural_network/multilayer_perceptron.py:566: ConvergenceWarning: Stochastic Optimizer: Maximum iterations (150) reached and the optimization hasn't converged yet.\n",
      "  % self.max_iter, ConvergenceWarning)\n",
      "/Users/pham/anaconda3/lib/python3.7/site-packages/sklearn/neural_network/multilayer_perceptron.py:566: ConvergenceWarning: Stochastic Optimizer: Maximum iterations (150) reached and the optimization hasn't converged yet.\n",
      "  % self.max_iter, ConvergenceWarning)\n",
      "/Users/pham/anaconda3/lib/python3.7/site-packages/sklearn/model_selection/_search.py:813: DeprecationWarning: The default of the `iid` parameter will change from True to False in version 0.22 and will be removed in 0.24. This will change numeric results when test-set sizes are unequal.\n",
      "  DeprecationWarning)\n"
     ]
    },
    {
     "name": "stdout",
     "output_type": "stream",
     "text": [
      "RESULTS FOR NN\n",
      "\n",
      "Best parameters set found: {'hidden_layer_sizes': (200,)}\n",
      "Score with best parameters: 0.7953\n",
      "\n",
      "All scores on the grid: [0.7925 0.7892 0.7754 0.7953 0.579  0.5515]\n"
     ]
    }
   ],
   "source": [
    "#for NN we try the same architectures as before\n",
    "\n",
    "hl_parameters = {'hidden_layer_sizes': [(50,), (75,), (100,), (200,), (10,10,), (50,50,)]}\n",
    "\n",
    "mlp_large_cv = MLPClassifier(max_iter=150, alpha=1e-4, solver='sgd', tol=1e-4, learning_rate_init=.1, random_state=ID)\n",
    "\n",
    "clf = GridSearchCV(mlp_large_cv, hl_parameters, cv=5)\n",
    "clf.fit(X_train, y_train)\n",
    "    \n",
    "print ('RESULTS FOR NN\\n')\n",
    "\n",
    "results = clf.cv_results_\n",
    "print(\"Best parameters set found:\", clf.best_params_)\n",
    "print(\"Score with best parameters:\", clf.best_score_)\n",
    "print(\"\\nAll scores on the grid:\", results[\"mean_test_score\"])"
   ]
  },
  {
   "cell_type": "markdown",
   "metadata": {},
   "source": [
    "## TO DO 5\n",
    "Describe your architecture choices and the results you observe with respect to the architectures you used.\n",
    "\n",
    "**Answer**: the best architecture I found is by using one hidden layer of 200 neurons. We can notice that by having more training data we can afford to increase the complexity of the architecture while improving the performances of the model. "
   ]
  },
  {
   "cell_type": "markdown",
   "metadata": {},
   "source": [
    "## TO DO 6\n",
    "\n",
    "Get the train and test error for the best NN you obtained with 10000 points. This time you can run for 100 iterations if you cannot run for 300 iterations. \n"
   ]
  },
  {
   "cell_type": "code",
   "execution_count": 244,
   "metadata": {
    "scrolled": false
   },
   "outputs": [
    {
     "name": "stdout",
     "output_type": "stream",
     "text": [
      "Iteration 1, loss = 0.84098027\n",
      "Iteration 2, loss = 0.48555769\n",
      "Iteration 3, loss = 0.43378204\n",
      "Iteration 4, loss = 0.39309433\n",
      "Iteration 5, loss = 0.36249780\n",
      "Iteration 6, loss = 0.34091762\n",
      "Iteration 7, loss = 0.31790506\n",
      "Iteration 8, loss = 0.30127745\n",
      "Iteration 9, loss = 0.28550535\n",
      "Iteration 10, loss = 0.27317166\n",
      "Iteration 11, loss = 0.27029430\n",
      "Iteration 12, loss = 0.25272694\n",
      "Iteration 13, loss = 0.23962594\n",
      "Iteration 14, loss = 0.23298162\n",
      "Iteration 15, loss = 0.21901324\n",
      "Iteration 16, loss = 0.22032393\n",
      "Iteration 17, loss = 0.20527671\n",
      "Iteration 18, loss = 0.19453136\n",
      "Iteration 19, loss = 0.18683373\n",
      "Iteration 20, loss = 0.18231505\n",
      "Iteration 21, loss = 0.17482211\n",
      "Iteration 22, loss = 0.18044035\n",
      "Iteration 23, loss = 0.15506427\n",
      "Iteration 24, loss = 0.15714238\n",
      "Iteration 25, loss = 0.15847537\n",
      "Iteration 26, loss = 0.14463310\n",
      "Iteration 27, loss = 0.14006451\n",
      "Iteration 28, loss = 0.13919533\n",
      "Iteration 29, loss = 0.12641891\n",
      "Iteration 30, loss = 0.12638038\n",
      "Iteration 31, loss = 0.12881258\n",
      "Iteration 32, loss = 0.11979513\n",
      "Iteration 33, loss = 0.11068960\n",
      "Iteration 34, loss = 0.11350427\n",
      "Iteration 35, loss = 0.11381409\n",
      "Iteration 36, loss = 0.10383016\n",
      "Iteration 37, loss = 0.09773483\n",
      "Iteration 38, loss = 0.10414586\n",
      "Iteration 39, loss = 0.09853050\n",
      "Iteration 40, loss = 0.08563030\n",
      "Iteration 41, loss = 0.09960513\n",
      "Iteration 42, loss = 0.08991528\n",
      "Iteration 43, loss = 0.08167309\n",
      "Iteration 44, loss = 0.07818271\n",
      "Iteration 45, loss = 0.08366941\n",
      "Iteration 46, loss = 0.08419756\n",
      "Iteration 47, loss = 0.06757968\n",
      "Iteration 48, loss = 0.06769557\n",
      "Iteration 49, loss = 0.06614834\n",
      "Iteration 50, loss = 0.07388729\n",
      "Iteration 51, loss = 0.06636221\n",
      "Iteration 52, loss = 0.05913008\n",
      "Iteration 53, loss = 0.05625836\n",
      "Iteration 54, loss = 0.05507866\n",
      "Iteration 55, loss = 0.05555600\n",
      "Iteration 56, loss = 0.04597230\n",
      "Iteration 57, loss = 0.04955967\n",
      "Iteration 58, loss = 0.04687415\n",
      "Iteration 59, loss = 0.03825356\n",
      "Iteration 60, loss = 0.04089068\n",
      "Iteration 61, loss = 0.04105122\n",
      "Iteration 62, loss = 0.03666264\n",
      "Iteration 63, loss = 0.03127203\n",
      "Iteration 64, loss = 0.02980031\n",
      "Iteration 65, loss = 0.03686624\n",
      "Iteration 66, loss = 0.03788898\n",
      "Iteration 67, loss = 0.03986729\n",
      "Iteration 68, loss = 0.04315069\n",
      "Iteration 69, loss = 0.04436983\n",
      "Iteration 70, loss = 0.02916424\n",
      "Iteration 71, loss = 0.03242435\n",
      "Iteration 72, loss = 0.02842738\n",
      "Iteration 73, loss = 0.02472536\n",
      "Iteration 74, loss = 0.02619420\n",
      "Iteration 75, loss = 0.02340327\n",
      "Iteration 76, loss = 0.02577803\n",
      "Iteration 77, loss = 0.02226955\n",
      "Iteration 78, loss = 0.02492636\n",
      "Iteration 79, loss = 0.02201109\n",
      "Iteration 80, loss = 0.02591478\n",
      "Iteration 81, loss = 0.02925542\n",
      "Iteration 82, loss = 0.02234297\n",
      "Iteration 83, loss = 0.01768139\n",
      "Iteration 84, loss = 0.01713441\n",
      "Iteration 85, loss = 0.01301229\n",
      "Iteration 86, loss = 0.00930607\n",
      "Iteration 87, loss = 0.01023968\n",
      "Iteration 88, loss = 0.01212384\n",
      "Iteration 89, loss = 0.00963003\n",
      "Iteration 90, loss = 0.01246301\n",
      "Iteration 91, loss = 0.03129637\n",
      "Iteration 92, loss = 0.01648725\n",
      "Iteration 93, loss = 0.01284924\n",
      "Iteration 94, loss = 0.01064731\n",
      "Iteration 95, loss = 0.00662442\n",
      "Iteration 96, loss = 0.00582076\n",
      "Iteration 97, loss = 0.00660278\n",
      "Iteration 98, loss = 0.00593427\n",
      "Iteration 99, loss = 0.00847581\n",
      "Iteration 100, loss = 0.00643344\n",
      "Iteration 101, loss = 0.00610344\n",
      "Iteration 102, loss = 0.00512173\n",
      "Iteration 103, loss = 0.00503108\n",
      "Iteration 104, loss = 0.00408017\n",
      "Iteration 105, loss = 0.00331485\n",
      "Iteration 106, loss = 0.00345413\n",
      "Iteration 107, loss = 0.00302629\n",
      "Iteration 108, loss = 0.00265049\n",
      "Iteration 109, loss = 0.00251562\n",
      "Iteration 110, loss = 0.00245450\n",
      "Iteration 111, loss = 0.00235450\n",
      "Iteration 112, loss = 0.00233662\n",
      "Iteration 113, loss = 0.00228721\n",
      "Iteration 114, loss = 0.00218724\n",
      "Iteration 115, loss = 0.00220553\n",
      "Iteration 116, loss = 0.00215902\n",
      "Iteration 117, loss = 0.00214408\n",
      "Iteration 118, loss = 0.00215440\n",
      "Iteration 119, loss = 0.00201813\n",
      "Iteration 120, loss = 0.00204165\n",
      "Iteration 121, loss = 0.00205600\n",
      "Iteration 122, loss = 0.00201869\n",
      "Iteration 123, loss = 0.00200146\n",
      "Iteration 124, loss = 0.00194647\n",
      "Iteration 125, loss = 0.00193392\n",
      "Iteration 126, loss = 0.00193999\n",
      "Iteration 127, loss = 0.00186781\n",
      "Iteration 128, loss = 0.00184511\n",
      "Iteration 129, loss = 0.00182208\n",
      "Iteration 130, loss = 0.00180280\n",
      "Training loss did not improve more than tol=0.000100 for 10 consecutive epochs. Stopping.\n",
      "\n",
      "RESULTS FOR BEST NN\n",
      "\n",
      "Best NN training error: 0.000000\n",
      "Best NN test error: 0.131860\n"
     ]
    }
   ],
   "source": [
    "best_mlp_large = MLPClassifier(clf.best_params_['hidden_layer_sizes'], max_iter=150, alpha=1e-4, \n",
    "                    solver='sgd', tol=1e-4, learning_rate_init=.1, random_state=ID, verbose=True)\n",
    "\n",
    "# fit the model on the entire training set\n",
    "best_mlp_large.fit(X_train, y_train)\n",
    "\n",
    "#get the training and test error\n",
    "training_error = 1. - best_mlp_large.score(X_train,y_train)\n",
    "test_error = 1. - best_mlp_large.score(X_test,y_test)\n",
    "\n",
    "print ('\\nRESULTS FOR BEST NN\\n')\n",
    "\n",
    "print (\"Best NN training error: %f\" % training_error)\n",
    "print (\"Best NN test error: %f\" % test_error)"
   ]
  },
  {
   "cell_type": "markdown",
   "metadata": {},
   "source": [
    "## TO DO 7\n",
    "\n",
    "Compare the train and test error you got with a large number of samples with the best one you obtained with only 500 data points. Are the architectures the same or do they differ? What about the errors you get?"
   ]
  },
  {
   "cell_type": "markdown",
   "metadata": {},
   "source": [
    "**Answer**: we get much better results by using a larger number of samples. The architecture with a larger training set is a little bit more complex because by having more training data we can afford to increase the complexity of the architecture while improving the performances of the model."
   ]
  },
  {
   "cell_type": "markdown",
   "metadata": {},
   "source": [
    "## TO DO 8\n",
    "\n",
    "Plot an image that was missclassified by NN with m=500 training data points and it is now instead correctly classified by NN with m=10000 training data points."
   ]
  },
  {
   "cell_type": "code",
   "execution_count": 245,
   "metadata": {},
   "outputs": [
    {
     "name": "stdout",
     "output_type": "stream",
     "text": [
      "INPUT:\n"
     ]
    },
    {
     "data": {
      "image/png": "[encoded data removed]",
      "text/plain": [
       "<Figure size 432x288 with 1 Axes>"
      ]
     },
     "metadata": {
      "needs_background": "light"
     },
     "output_type": "display_data"
    },
    {
     "name": "stdout",
     "output_type": "stream",
     "text": [
      "LABEL: 6\n",
      "NN with 10000 samples prediction:  6\n",
      "NN with 500 samples prediction:  2\n"
     ]
    }
   ],
   "source": [
    "best_mlp_large_prediction = best_mlp_large.predict(X_train)\n",
    "best_mlp_prediction = best_mlp.predict(X_train)\n",
    "\n",
    "for i in range(len(X_train)):\n",
    "    if best_mlp_large_prediction[i] == y_train[i] and best_mlp_prediction[i] != y_train[i]:\n",
    "        plot_input(X_train,y_train,i)\n",
    "        print(\"NN with 10000 samples prediction: \", best_mlp_large_prediction[i])\n",
    "        print(\"NN with 500 samples prediction: \", best_mlp_prediction[i])\n",
    "        break"
   ]
  },
  {
   "cell_type": "markdown",
   "metadata": {},
   "source": [
    "Let's plot some of the weigths of the multi-layer perceptron classifier, for the best NN we get with 500 data points and with 10000 data points. The code below plots the weights in a matrix form, where a figure represents all the weights of the edges entering in a hidden node. Notice that the code assumes that the NNs are called \"mlp\" and \"best_mlp_large\": you may need to replace such variables with your variable names. \n",
    "\n"
   ]
  },
  {
   "cell_type": "code",
   "execution_count": 246,
   "metadata": {},
   "outputs": [
    {
     "name": "stdout",
     "output_type": "stream",
     "text": [
      "Weights with 500 data points:\n"
     ]
    },
    {
     "data": {
      "image/png": "[encoded data removed]",
      "text/plain": [
       "<Figure size 432x288 with 16 Axes>"
      ]
     },
     "metadata": {},
     "output_type": "display_data"
    },
    {
     "name": "stdout",
     "output_type": "stream",
     "text": [
      "Weights with 10000 data points:\n"
     ]
    },
    {
     "data": {
      "image/png": "[encoded data removed]",
      "text/plain": [
       "<Figure size 432x288 with 16 Axes>"
      ]
     },
     "metadata": {},
     "output_type": "display_data"
    }
   ],
   "source": [
    "print(\"Weights with 500 data points:\")\n",
    "\n",
    "fig, axes = plt.subplots(4, 4)\n",
    "vmin, vmax = best_mlp.coefs_[0].min(), best_mlp.coefs_[0].max()\n",
    "for coef, ax in zip(best_mlp.coefs_[0].T, axes.ravel()):\n",
    "    ax.matshow(coef.reshape(28, 28), cmap=plt.cm.gray, vmin=.5 * vmin, vmax=.5 * vmax)\n",
    "    ax.set_xticks(())\n",
    "    ax.set_yticks(())\n",
    "\n",
    "plt.show()\n",
    "\n",
    "print(\"Weights with 10000 data points:\")\n",
    "\n",
    "fig, axes = plt.subplots(4, 4)\n",
    "vmin, vmax = best_mlp_large.coefs_[0].min(), best_mlp_large.coefs_[0].max()\n",
    "for coef, ax in zip(best_mlp_large.coefs_[0].T, axes.ravel()):\n",
    "    ax.matshow(coef.reshape(28, 28), cmap=plt.cm.gray, vmin=.5 * vmin, vmax=.5 * vmax)\n",
    "    ax.set_xticks(())\n",
    "    ax.set_yticks(())\n",
    "plt.show()"
   ]
  },
  {
   "cell_type": "markdown",
   "metadata": {},
   "source": [
    "## TO DO 9\n",
    "\n",
    "Describe what do you observe by looking at the weights.\n",
    "\n",
    "**Answer**: by looking at the images representing the weights I can notice some patterns which resemble some image of clothing such as shirts or pullovers. "
   ]
  },
  {
   "cell_type": "markdown",
   "metadata": {},
   "source": [
    "## TO DO 10\n",
    "\n",
    "Pick another classifier among the ones we have seen previously (SVM or something else). Report the training and test error for such classifier with 10000 samples in the training set, if possible; if the classifier cannot run with so many data sample reduce the number of samples.\n",
    "\n",
    "*Note*: if there are parameters to be optimized use cross-validation. If you choose SVM, you can decide if you want to use a single kernel or use the best among many; in the latter case, you need to pick the best kernel using cross-validation (using the functions available in sklearn).\n",
    "\n",
    "**Answer**: I am going to use SVM with cross validation to find the best kernel among linear, poly and rbf."
   ]
  },
  {
   "cell_type": "code",
   "execution_count": 247,
   "metadata": {},
   "outputs": [
    {
     "name": "stderr",
     "output_type": "stream",
     "text": [
      "/Users/pham/anaconda3/lib/python3.7/site-packages/sklearn/model_selection/_split.py:1978: FutureWarning: The default value of cv will change from 3 to 5 in version 0.22. Specify it explicitly to silence this warning.\n",
      "  warnings.warn(CV_WARNING, FutureWarning)\n",
      "/Users/pham/anaconda3/lib/python3.7/site-packages/sklearn/svm/base.py:241: ConvergenceWarning: Solver terminated early (max_iter=100).  Consider pre-processing your data with StandardScaler or MinMaxScaler.\n",
      "  % self.max_iter, ConvergenceWarning)\n",
      "/Users/pham/anaconda3/lib/python3.7/site-packages/sklearn/svm/base.py:241: ConvergenceWarning: Solver terminated early (max_iter=100).  Consider pre-processing your data with StandardScaler or MinMaxScaler.\n",
      "  % self.max_iter, ConvergenceWarning)\n",
      "/Users/pham/anaconda3/lib/python3.7/site-packages/sklearn/svm/base.py:241: ConvergenceWarning: Solver terminated early (max_iter=100).  Consider pre-processing your data with StandardScaler or MinMaxScaler.\n",
      "  % self.max_iter, ConvergenceWarning)\n",
      "/Users/pham/anaconda3/lib/python3.7/site-packages/sklearn/svm/base.py:193: FutureWarning: The default value of gamma will change from 'auto' to 'scale' in version 0.22 to account better for unscaled features. Set gamma explicitly to 'auto' or 'scale' to avoid this warning.\n",
      "  \"avoid this warning.\", FutureWarning)\n",
      "/Users/pham/anaconda3/lib/python3.7/site-packages/sklearn/svm/base.py:241: ConvergenceWarning: Solver terminated early (max_iter=100).  Consider pre-processing your data with StandardScaler or MinMaxScaler.\n",
      "  % self.max_iter, ConvergenceWarning)\n",
      "/Users/pham/anaconda3/lib/python3.7/site-packages/sklearn/svm/base.py:193: FutureWarning: The default value of gamma will change from 'auto' to 'scale' in version 0.22 to account better for unscaled features. Set gamma explicitly to 'auto' or 'scale' to avoid this warning.\n",
      "  \"avoid this warning.\", FutureWarning)\n",
      "/Users/pham/anaconda3/lib/python3.7/site-packages/sklearn/svm/base.py:241: ConvergenceWarning: Solver terminated early (max_iter=100).  Consider pre-processing your data with StandardScaler or MinMaxScaler.\n",
      "  % self.max_iter, ConvergenceWarning)\n",
      "/Users/pham/anaconda3/lib/python3.7/site-packages/sklearn/svm/base.py:193: FutureWarning: The default value of gamma will change from 'auto' to 'scale' in version 0.22 to account better for unscaled features. Set gamma explicitly to 'auto' or 'scale' to avoid this warning.\n",
      "  \"avoid this warning.\", FutureWarning)\n",
      "/Users/pham/anaconda3/lib/python3.7/site-packages/sklearn/svm/base.py:241: ConvergenceWarning: Solver terminated early (max_iter=100).  Consider pre-processing your data with StandardScaler or MinMaxScaler.\n",
      "  % self.max_iter, ConvergenceWarning)\n",
      "/Users/pham/anaconda3/lib/python3.7/site-packages/sklearn/svm/base.py:193: FutureWarning: The default value of gamma will change from 'auto' to 'scale' in version 0.22 to account better for unscaled features. Set gamma explicitly to 'auto' or 'scale' to avoid this warning.\n",
      "  \"avoid this warning.\", FutureWarning)\n",
      "/Users/pham/anaconda3/lib/python3.7/site-packages/sklearn/svm/base.py:241: ConvergenceWarning: Solver terminated early (max_iter=100).  Consider pre-processing your data with StandardScaler or MinMaxScaler.\n",
      "  % self.max_iter, ConvergenceWarning)\n",
      "/Users/pham/anaconda3/lib/python3.7/site-packages/sklearn/svm/base.py:193: FutureWarning: The default value of gamma will change from 'auto' to 'scale' in version 0.22 to account better for unscaled features. Set gamma explicitly to 'auto' or 'scale' to avoid this warning.\n",
      "  \"avoid this warning.\", FutureWarning)\n",
      "/Users/pham/anaconda3/lib/python3.7/site-packages/sklearn/svm/base.py:241: ConvergenceWarning: Solver terminated early (max_iter=100).  Consider pre-processing your data with StandardScaler or MinMaxScaler.\n",
      "  % self.max_iter, ConvergenceWarning)\n",
      "/Users/pham/anaconda3/lib/python3.7/site-packages/sklearn/svm/base.py:193: FutureWarning: The default value of gamma will change from 'auto' to 'scale' in version 0.22 to account better for unscaled features. Set gamma explicitly to 'auto' or 'scale' to avoid this warning.\n",
      "  \"avoid this warning.\", FutureWarning)\n",
      "/Users/pham/anaconda3/lib/python3.7/site-packages/sklearn/svm/base.py:241: ConvergenceWarning: Solver terminated early (max_iter=100).  Consider pre-processing your data with StandardScaler or MinMaxScaler.\n",
      "  % self.max_iter, ConvergenceWarning)\n",
      "/Users/pham/anaconda3/lib/python3.7/site-packages/sklearn/svm/base.py:241: ConvergenceWarning: Solver terminated early (max_iter=100).  Consider pre-processing your data with StandardScaler or MinMaxScaler.\n",
      "  % self.max_iter, ConvergenceWarning)\n"
     ]
    },
    {
     "name": "stdout",
     "output_type": "stream",
     "text": [
      "RESULTS FOR GRID SEARCH CV\n",
      "\n",
      "Best parameters set found: {'kernel': 'linear'}\n",
      "Score with best parameters: 0.7386\n",
      "\n",
      "All scores on the grid: [0.7386 0.4963 0.6906]\n"
     ]
    },
    {
     "name": "stderr",
     "output_type": "stream",
     "text": [
      "/Users/pham/anaconda3/lib/python3.7/site-packages/sklearn/svm/base.py:241: ConvergenceWarning: Solver terminated early (max_iter=300).  Consider pre-processing your data with StandardScaler or MinMaxScaler.\n",
      "  % self.max_iter, ConvergenceWarning)\n"
     ]
    },
    {
     "name": "stdout",
     "output_type": "stream",
     "text": [
      "RESULTS FOR OTHER CLASSIFIER\n",
      "\n",
      "Best training error (other model): 0.171400\n",
      "Best test error (other model): 0.227080\n"
     ]
    }
   ],
   "source": [
    "from sklearn.svm import SVC\n",
    "\n",
    "parameters = {'kernel': ['linear', 'poly', 'rbf']}\n",
    "\n",
    "#run linear SVM\n",
    "SVM = SVC(max_iter=100)\n",
    "\n",
    "#find best model using 5-fold CV \n",
    "clf = GridSearchCV(SVM, parameters)\n",
    "clf.fit(X_train, y_train)\n",
    "\n",
    "print ('RESULTS FOR GRID SEARCH CV\\n')\n",
    "\n",
    "results = clf.cv_results_\n",
    "print(\"Best parameters set found:\", clf.best_params_)\n",
    "print(\"Score with best parameters:\", clf.best_score_)\n",
    "print(\"\\nAll scores on the grid:\", results[\"mean_test_score\"])\n",
    "\n",
    "\n",
    "#get training and test error for the best SVM model from CV\n",
    "best_SVM = SVC(max_iter=300, kernel=clf.best_params_['kernel'])\n",
    "\n",
    "# fit the model on the entire training set\n",
    "best_SVM.fit(X_train, y_train)\n",
    "\n",
    "#get the training and test error\n",
    "training_error_other = 1. - best_SVM.score(X_train,y_train)\n",
    "test_error_other = 1. - best_SVM.score(X_test,y_test)\n",
    "\n",
    "print ('RESULTS FOR OTHER CLASSIFIER\\n')\n",
    "\n",
    "print (\"Best training error (other model): %f\" % training_error_other)\n",
    "print (\"Best test error (other model): %f\" % test_error_other)"
   ]
  },
  {
   "cell_type": "markdown",
   "metadata": {
    "collapsed": true
   },
   "source": [
    "## TO DO 11\n",
    "Compare the results of NN and of the other classifier you have chosen above. Which classifier would you preferer? Provide a brief explanation."
   ]
  },
  {
   "cell_type": "markdown",
   "metadata": {
    "collapsed": true
   },
   "source": [
    "**Answer**: The best kernel found for SVM using cross validation is the linear kernel. The NN performs much better compared to the SVM. I assume that the NN is better at extracting complex features as long as we find the correct architecture."
   ]
  },
  {
   "cell_type": "markdown",
   "metadata": {},
   "source": [
    "# Clustering with K-means\n",
    "\n",
    "Clustering is a useful technique for *unsupervised* learning. We are now going to cluster 2000 images in the fashion MNIST dataset, and try to understand if the clusters we obtain correspond to the true labels."
   ]
  },
  {
   "cell_type": "code",
   "execution_count": 248,
   "metadata": {},
   "outputs": [],
   "source": [
    "#load the required packages\n",
    "\n",
    "from sklearn import metrics\n",
    "from sklearn.cluster import KMeans"
   ]
  },
  {
   "cell_type": "markdown",
   "metadata": {},
   "source": [
    "(Note that the code below assumes that the data has already been transformed as in the NN part of the notebook, so make sure to run the code for the transformation even if you do not complete the part on NN.)"
   ]
  },
  {
   "cell_type": "code",
   "execution_count": 249,
   "metadata": {},
   "outputs": [],
   "source": [
    "#let's consider only 2000 data points\n",
    "\n",
    "X = X[permutation]\n",
    "y = y[permutation]\n",
    "\n",
    "m_training = 2000\n",
    "\n",
    "X_train, X_test = X[:m_training], X[m_training:]\n",
    "y_train, y_test = y[:m_training], y[m_training:]"
   ]
  },
  {
   "cell_type": "markdown",
   "metadata": {},
   "source": [
    "## TO DO 1\n",
    "Cluster the points using the KMeans() and fit() functions (see the userguide for details). For Kmeans, set: n_clusters=10 as number of clusters; n_init=10 as the number of times the algorithm will be run with different centroid seeds; random_state = ID. You can use the default setting for the other parameters."
   ]
  },
  {
   "cell_type": "code",
   "execution_count": 250,
   "metadata": {},
   "outputs": [
    {
     "data": {
      "text/plain": [
       "KMeans(algorithm='auto', copy_x=True, init='k-means++', max_iter=300,\n",
       "       n_clusters=10, n_init=10, n_jobs=None, precompute_distances='auto',\n",
       "       random_state=1234004, tol=0.0001, verbose=0)"
      ]
     },
     "execution_count": 250,
     "metadata": {},
     "output_type": "execute_result"
    }
   ],
   "source": [
    "kmeans = KMeans(n_clusters=10, n_init=10, random_state = ID)\n",
    "kmeans.fit(X_train)"
   ]
  },
  {
   "cell_type": "markdown",
   "metadata": {},
   "source": [
    "## Comparison of clusters with true labels"
   ]
  },
  {
   "cell_type": "markdown",
   "metadata": {},
   "source": [
    "## TO DO 2\n",
    "Now compare the obtained clusters with the true labels, using the function sklearn.metrics.cluster.contingency_matrix() (see the userguide for details). The function prints a matrix $A$ such that entry $A_{i,j}$ is is the number of samples in true class $i$ and in predicted class $j$."
   ]
  },
  {
   "cell_type": "code",
   "execution_count": 251,
   "metadata": {},
   "outputs": [
    {
     "name": "stdout",
     "output_type": "stream",
     "text": [
      "[[  0  74   6 105   2   1   0   0   1  22]\n",
      " [  0  16   2   2   0   0   0   0 169  16]\n",
      " [  0  48 131   4   3   0   0   1   0   0]\n",
      " [  0  40   3   2   0   0   0   0  58 110]\n",
      " [  0  40 133   0   1   0   0   2   1  35]\n",
      " [ 25  30   0   0   0 137  12   0   0   0]\n",
      " [  0  90  57  20   1   0   0   1   0  15]\n",
      " [ 37   0   0   0   0 178   0   0   0   0]\n",
      " [  6  13   5   0  72   4   0  71   0   1]\n",
      " [100   2   0   0   0   8  85   0   0   2]]\n"
     ]
    }
   ],
   "source": [
    "# compute and print the contingency matrix for the true labels vs the clustering assignments\n",
    "y_predicted = kmeans.predict(X_train)\n",
    "matrix = metrics.cluster.contingency_matrix(y_train, y_predicted)\n",
    "print(matrix)"
   ]
  },
  {
   "cell_type": "markdown",
   "metadata": {},
   "source": [
    "## TO DO 3\n",
    "Based on the matrix shown above, comment on the results of clustering in terms of adherence to the true labels.\n",
    "\n",
    "**Answer**: When the k-means algorithm seperate the data into clusters it doesn't know which cluster corresponds to which type of clothing. What we can notice is that for each true class $i$, the majority of samples with true class $i$ fall into one predicted class $j$ which I assume represents the cluster $i$. Many cell of the matrix $A_{i,j}$ are zero or very small values, which means that some types of clothing are perfectly distinguished from other types of clothing. Other values in the matrix with values neither large nor small indicate that there are some confusions over some pair of clothing types."
   ]
  },
  {
   "cell_type": "markdown",
   "metadata": {},
   "source": [
    "## Choice of k with silhoutte coefficient\n",
    "In many real applications it is unclear what is the correct value of $k$ to use. In practice one tries different values of $k$ and then uses some external score to choose a value of $k$. One such score is the silhoutte coefficient, that can be computed with metrics.silhouette_score(). See the definition of the silhoutte coefficient in the userguide."
   ]
  },
  {
   "cell_type": "markdown",
   "metadata": {},
   "source": [
    "## TO DO 4\n",
    "Compute the clustering for k=2,3,...,15 (other parameters as above) and print the silhoutte coefficient for each such clustering."
   ]
  },
  {
   "cell_type": "code",
   "execution_count": 252,
   "metadata": {},
   "outputs": [
    {
     "name": "stdout",
     "output_type": "stream",
     "text": [
      "Silhoutte coefficient for number of clusters=2: 0.19723554242949648\n",
      "Silhoutte coefficient for number of clusters=3: 0.18437064709840154\n",
      "Silhoutte coefficient for number of clusters=4: 0.18054246779457736\n",
      "Silhoutte coefficient for number of clusters=5: 0.15589862187578818\n",
      "Silhoutte coefficient for number of clusters=6: 0.15468150181258983\n",
      "Silhoutte coefficient for number of clusters=7: 0.16393918442315644\n",
      "Silhoutte coefficient for number of clusters=8: 0.16177878418333488\n",
      "Silhoutte coefficient for number of clusters=9: 0.15434884884646413\n",
      "Silhoutte coefficient for number of clusters=10: 0.15985610245933662\n",
      "Silhoutte coefficient for number of clusters=11: 0.14017909799749179\n",
      "Silhoutte coefficient for number of clusters=12: 0.13821374277537307\n",
      "Silhoutte coefficient for number of clusters=13: 0.13112718203991836\n",
      "Silhoutte coefficient for number of clusters=14: 0.12904809330818742\n",
      "Silhoutte coefficient for number of clusters=15: 0.12570108724097753\n"
     ]
    }
   ],
   "source": [
    "#run k-means with 10 choices of initial centroids for a range of values of n_clusters\n",
    "\n",
    "for i in range(2,16):\n",
    "    kmeans = KMeans(n_clusters=i, n_init=10, random_state = ID)\n",
    "    y_predicted = kmeans.fit_predict(X_train)\n",
    "    silhouttescore = metrics.silhouette_score(X_train, y_predicted)\n",
    "    print(\"Silhoutte coefficient for number of clusters=\"+str(i)+\": \"+str(silhouttescore))"
   ]
  },
  {
   "cell_type": "markdown",
   "metadata": {},
   "source": [
    "## TO DO 5\n",
    "\n",
    "Based on the silhoutte score, which $k$ would you pick? Motivate your choice. Does your choice match what you know about the data? If yes, explain why you think this is the case; if no, explain what you think may be the reason."
   ]
  },
  {
   "cell_type": "markdown",
   "metadata": {},
   "source": [
    "**Answer**: The silhuette coefficient decrease as we increase the number of clusters. By the results I would pick a number of clusters of 2. This is not what I expected because from our prior knowledge the clothing could be divided into 10 different classes. The reason could be because there isn't much distance between the classes in the vectorial space defined by the images of the training data. "
   ]
  }
 ],
 "metadata": {
  "kernelspec": {
   "display_name": "Python 3",
   "language": "python",
   "name": "python3"
  },
  "language_info": {
   "codemirror_mode": {
    "name": "ipython",
    "version": 3
   },
   "file_extension": ".py",
   "mimetype": "text/x-python",
   "name": "python",
   "nbconvert_exporter": "python",
   "pygments_lexer": "ipython3",
   "version": "3.6.7"
  }
 },
 "nbformat": 4,
 "nbformat_minor": 2
}
