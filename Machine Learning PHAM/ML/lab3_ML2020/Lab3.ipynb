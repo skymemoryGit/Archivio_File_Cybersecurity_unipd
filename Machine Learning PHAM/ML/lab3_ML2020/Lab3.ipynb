{
 "cells": [
  {
   "cell_type": "markdown",
   "metadata": {},
   "source": [
    "#  Neural Networks: Regression on House Pricing Dataset\n",
    "We consider a reduced version of a dataset containing house sale prices for King County, which includes Seattle. It includes homes sold between May 2014 and May 2015.\n",
    "\n",
    "https://www.kaggle.com/harlfoxem/housesalesprediction\n",
    "\n",
    "For each house we know 18 house features (e.g., number of bedrooms, number of bathrooms, etc.) plus its price, that is what we would like to predict."
   ]
  },
  {
   "cell_type": "code",
   "execution_count": 1,
   "metadata": {},
   "outputs": [],
   "source": [
    "#put here your ``numero di matricola''\n",
    "numero_di_matricola = 1 # COMPLEte"
   ]
  },
  {
   "cell_type": "markdown",
   "metadata": {},
   "source": [
    "## Insert your ID number (\"numero di matricola\") below"
   ]
  },
  {
   "cell_type": "code",
   "execution_count": 2,
   "metadata": {},
   "outputs": [],
   "source": [
    "#put here your ``numero di matricola''\n",
    "numero_di_matricola = 1 # COMPLETE"
   ]
  },
  {
   "cell_type": "code",
   "execution_count": 3,
   "metadata": {},
   "outputs": [],
   "source": [
    "#import all packages needed\n",
    "%matplotlib inline\n",
    "import pandas as pd\n",
    "import numpy as np\n",
    "import matplotlib.pyplot as plt"
   ]
  },
  {
   "cell_type": "markdown",
   "metadata": {},
   "source": [
    "Load the data, remove data samples/points with missing values (NaN) and take a look at them."
   ]
  },
  {
   "cell_type": "code",
   "execution_count": 4,
   "metadata": {},
   "outputs": [
    {
     "data": {
      "text/html": [
       "<div>\n",
       "<style scoped>\n",
       "    .dataframe tbody tr th:only-of-type {\n",
       "        vertical-align: middle;\n",
       "    }\n",
       "\n",
       "    .dataframe tbody tr th {\n",
       "        vertical-align: top;\n",
       "    }\n",
       "\n",
       "    .dataframe thead th {\n",
       "        text-align: right;\n",
       "    }\n",
       "</style>\n",
       "<table border=\"1\" class=\"dataframe\">\n",
       "  <thead>\n",
       "    <tr style=\"text-align: right;\">\n",
       "      <th></th>\n",
       "      <th>id</th>\n",
       "      <th>price</th>\n",
       "      <th>bedrooms</th>\n",
       "      <th>bathrooms</th>\n",
       "      <th>sqft_living</th>\n",
       "      <th>sqft_lot</th>\n",
       "      <th>floors</th>\n",
       "      <th>waterfront</th>\n",
       "      <th>view</th>\n",
       "      <th>condition</th>\n",
       "      <th>grade</th>\n",
       "      <th>sqft_above</th>\n",
       "      <th>sqft_basement</th>\n",
       "      <th>yr_built</th>\n",
       "      <th>yr_renovated</th>\n",
       "      <th>zipcode</th>\n",
       "      <th>lat</th>\n",
       "      <th>long</th>\n",
       "      <th>sqft_living15</th>\n",
       "      <th>sqft_lot15</th>\n",
       "    </tr>\n",
       "  </thead>\n",
       "  <tbody>\n",
       "    <tr>\n",
       "      <th>count</th>\n",
       "      <td>3.164000e+03</td>\n",
       "      <td>3.164000e+03</td>\n",
       "      <td>3164.000000</td>\n",
       "      <td>3164.000000</td>\n",
       "      <td>3164.000000</td>\n",
       "      <td>3.164000e+03</td>\n",
       "      <td>3164.000000</td>\n",
       "      <td>3164.000000</td>\n",
       "      <td>3164.000000</td>\n",
       "      <td>3164.000000</td>\n",
       "      <td>3164.000000</td>\n",
       "      <td>3164.000000</td>\n",
       "      <td>3164.000000</td>\n",
       "      <td>3164.000000</td>\n",
       "      <td>3164.000000</td>\n",
       "      <td>3164.000000</td>\n",
       "      <td>3164.000000</td>\n",
       "      <td>3164.000000</td>\n",
       "      <td>3164.000000</td>\n",
       "      <td>3164.000000</td>\n",
       "    </tr>\n",
       "    <tr>\n",
       "      <th>mean</th>\n",
       "      <td>4.645240e+09</td>\n",
       "      <td>5.354358e+05</td>\n",
       "      <td>3.381163</td>\n",
       "      <td>2.071903</td>\n",
       "      <td>2070.027813</td>\n",
       "      <td>1.525054e+04</td>\n",
       "      <td>1.434893</td>\n",
       "      <td>0.009798</td>\n",
       "      <td>0.244311</td>\n",
       "      <td>3.459229</td>\n",
       "      <td>7.615676</td>\n",
       "      <td>1761.252212</td>\n",
       "      <td>308.775601</td>\n",
       "      <td>1967.489254</td>\n",
       "      <td>94.668774</td>\n",
       "      <td>98077.125158</td>\n",
       "      <td>47.557868</td>\n",
       "      <td>-122.212337</td>\n",
       "      <td>1982.544564</td>\n",
       "      <td>13176.302465</td>\n",
       "    </tr>\n",
       "    <tr>\n",
       "      <th>std</th>\n",
       "      <td>2.854203e+09</td>\n",
       "      <td>3.809004e+05</td>\n",
       "      <td>0.895472</td>\n",
       "      <td>0.768212</td>\n",
       "      <td>920.251879</td>\n",
       "      <td>4.254457e+04</td>\n",
       "      <td>0.507792</td>\n",
       "      <td>0.098513</td>\n",
       "      <td>0.776298</td>\n",
       "      <td>0.682592</td>\n",
       "      <td>1.166324</td>\n",
       "      <td>815.934864</td>\n",
       "      <td>458.977904</td>\n",
       "      <td>28.095275</td>\n",
       "      <td>424.439427</td>\n",
       "      <td>54.172937</td>\n",
       "      <td>0.140789</td>\n",
       "      <td>0.139577</td>\n",
       "      <td>686.256670</td>\n",
       "      <td>25413.180755</td>\n",
       "    </tr>\n",
       "    <tr>\n",
       "      <th>min</th>\n",
       "      <td>1.000102e+06</td>\n",
       "      <td>7.500000e+04</td>\n",
       "      <td>0.000000</td>\n",
       "      <td>0.000000</td>\n",
       "      <td>380.000000</td>\n",
       "      <td>6.490000e+02</td>\n",
       "      <td>1.000000</td>\n",
       "      <td>0.000000</td>\n",
       "      <td>0.000000</td>\n",
       "      <td>1.000000</td>\n",
       "      <td>3.000000</td>\n",
       "      <td>380.000000</td>\n",
       "      <td>0.000000</td>\n",
       "      <td>1900.000000</td>\n",
       "      <td>0.000000</td>\n",
       "      <td>98001.000000</td>\n",
       "      <td>47.177500</td>\n",
       "      <td>-122.514000</td>\n",
       "      <td>620.000000</td>\n",
       "      <td>660.000000</td>\n",
       "    </tr>\n",
       "    <tr>\n",
       "      <th>25%</th>\n",
       "      <td>2.199775e+09</td>\n",
       "      <td>3.150000e+05</td>\n",
       "      <td>3.000000</td>\n",
       "      <td>1.500000</td>\n",
       "      <td>1430.000000</td>\n",
       "      <td>5.453750e+03</td>\n",
       "      <td>1.000000</td>\n",
       "      <td>0.000000</td>\n",
       "      <td>0.000000</td>\n",
       "      <td>3.000000</td>\n",
       "      <td>7.000000</td>\n",
       "      <td>1190.000000</td>\n",
       "      <td>0.000000</td>\n",
       "      <td>1950.000000</td>\n",
       "      <td>0.000000</td>\n",
       "      <td>98032.000000</td>\n",
       "      <td>47.459575</td>\n",
       "      <td>-122.324250</td>\n",
       "      <td>1480.000000</td>\n",
       "      <td>5429.500000</td>\n",
       "    </tr>\n",
       "    <tr>\n",
       "      <th>50%</th>\n",
       "      <td>4.027701e+09</td>\n",
       "      <td>4.450000e+05</td>\n",
       "      <td>3.000000</td>\n",
       "      <td>2.000000</td>\n",
       "      <td>1910.000000</td>\n",
       "      <td>8.000000e+03</td>\n",
       "      <td>1.000000</td>\n",
       "      <td>0.000000</td>\n",
       "      <td>0.000000</td>\n",
       "      <td>3.000000</td>\n",
       "      <td>7.000000</td>\n",
       "      <td>1545.000000</td>\n",
       "      <td>0.000000</td>\n",
       "      <td>1969.000000</td>\n",
       "      <td>0.000000</td>\n",
       "      <td>98059.000000</td>\n",
       "      <td>47.572500</td>\n",
       "      <td>-122.226000</td>\n",
       "      <td>1830.000000</td>\n",
       "      <td>7873.000000</td>\n",
       "    </tr>\n",
       "    <tr>\n",
       "      <th>75%</th>\n",
       "      <td>7.358175e+09</td>\n",
       "      <td>6.402500e+05</td>\n",
       "      <td>4.000000</td>\n",
       "      <td>2.500000</td>\n",
       "      <td>2500.000000</td>\n",
       "      <td>1.122250e+04</td>\n",
       "      <td>2.000000</td>\n",
       "      <td>0.000000</td>\n",
       "      <td>0.000000</td>\n",
       "      <td>4.000000</td>\n",
       "      <td>8.000000</td>\n",
       "      <td>2150.000000</td>\n",
       "      <td>600.000000</td>\n",
       "      <td>1990.000000</td>\n",
       "      <td>0.000000</td>\n",
       "      <td>98117.000000</td>\n",
       "      <td>47.680250</td>\n",
       "      <td>-122.124000</td>\n",
       "      <td>2360.000000</td>\n",
       "      <td>10408.250000</td>\n",
       "    </tr>\n",
       "    <tr>\n",
       "      <th>max</th>\n",
       "      <td>9.839301e+09</td>\n",
       "      <td>5.350000e+06</td>\n",
       "      <td>8.000000</td>\n",
       "      <td>6.000000</td>\n",
       "      <td>8010.000000</td>\n",
       "      <td>1.651359e+06</td>\n",
       "      <td>3.500000</td>\n",
       "      <td>1.000000</td>\n",
       "      <td>4.000000</td>\n",
       "      <td>5.000000</td>\n",
       "      <td>12.000000</td>\n",
       "      <td>6720.000000</td>\n",
       "      <td>2620.000000</td>\n",
       "      <td>2015.000000</td>\n",
       "      <td>2015.000000</td>\n",
       "      <td>98199.000000</td>\n",
       "      <td>47.777600</td>\n",
       "      <td>-121.315000</td>\n",
       "      <td>5790.000000</td>\n",
       "      <td>425581.000000</td>\n",
       "    </tr>\n",
       "  </tbody>\n",
       "</table>\n",
       "</div>"
      ],
      "text/plain": [
       "                 id         price     bedrooms    bathrooms  sqft_living  \\\n",
       "count  3.164000e+03  3.164000e+03  3164.000000  3164.000000  3164.000000   \n",
       "mean   4.645240e+09  5.354358e+05     3.381163     2.071903  2070.027813   \n",
       "std    2.854203e+09  3.809004e+05     0.895472     0.768212   920.251879   \n",
       "min    1.000102e+06  7.500000e+04     0.000000     0.000000   380.000000   \n",
       "25%    2.199775e+09  3.150000e+05     3.000000     1.500000  1430.000000   \n",
       "50%    4.027701e+09  4.450000e+05     3.000000     2.000000  1910.000000   \n",
       "75%    7.358175e+09  6.402500e+05     4.000000     2.500000  2500.000000   \n",
       "max    9.839301e+09  5.350000e+06     8.000000     6.000000  8010.000000   \n",
       "\n",
       "           sqft_lot       floors   waterfront         view    condition  \\\n",
       "count  3.164000e+03  3164.000000  3164.000000  3164.000000  3164.000000   \n",
       "mean   1.525054e+04     1.434893     0.009798     0.244311     3.459229   \n",
       "std    4.254457e+04     0.507792     0.098513     0.776298     0.682592   \n",
       "min    6.490000e+02     1.000000     0.000000     0.000000     1.000000   \n",
       "25%    5.453750e+03     1.000000     0.000000     0.000000     3.000000   \n",
       "50%    8.000000e+03     1.000000     0.000000     0.000000     3.000000   \n",
       "75%    1.122250e+04     2.000000     0.000000     0.000000     4.000000   \n",
       "max    1.651359e+06     3.500000     1.000000     4.000000     5.000000   \n",
       "\n",
       "             grade   sqft_above  sqft_basement     yr_built  yr_renovated  \\\n",
       "count  3164.000000  3164.000000    3164.000000  3164.000000   3164.000000   \n",
       "mean      7.615676  1761.252212     308.775601  1967.489254     94.668774   \n",
       "std       1.166324   815.934864     458.977904    28.095275    424.439427   \n",
       "min       3.000000   380.000000       0.000000  1900.000000      0.000000   \n",
       "25%       7.000000  1190.000000       0.000000  1950.000000      0.000000   \n",
       "50%       7.000000  1545.000000       0.000000  1969.000000      0.000000   \n",
       "75%       8.000000  2150.000000     600.000000  1990.000000      0.000000   \n",
       "max      12.000000  6720.000000    2620.000000  2015.000000   2015.000000   \n",
       "\n",
       "            zipcode          lat         long  sqft_living15     sqft_lot15  \n",
       "count   3164.000000  3164.000000  3164.000000    3164.000000    3164.000000  \n",
       "mean   98077.125158    47.557868  -122.212337    1982.544564   13176.302465  \n",
       "std       54.172937     0.140789     0.139577     686.256670   25413.180755  \n",
       "min    98001.000000    47.177500  -122.514000     620.000000     660.000000  \n",
       "25%    98032.000000    47.459575  -122.324250    1480.000000    5429.500000  \n",
       "50%    98059.000000    47.572500  -122.226000    1830.000000    7873.000000  \n",
       "75%    98117.000000    47.680250  -122.124000    2360.000000   10408.250000  \n",
       "max    98199.000000    47.777600  -121.315000    5790.000000  425581.000000  "
      ]
     },
     "execution_count": 4,
     "metadata": {},
     "output_type": "execute_result"
    }
   ],
   "source": [
    "#load the data\n",
    "df = pd.read_csv('kc_house_data.csv', sep = ',')\n",
    "\n",
    "#remove the data samples with missing values (NaN)\n",
    "df = df.dropna() \n",
    "\n",
    "df.describe()"
   ]
  },
  {
   "cell_type": "markdown",
   "metadata": {},
   "source": [
    "Extract input and output data. We want to predict the price by using features other than id as input."
   ]
  },
  {
   "cell_type": "code",
   "execution_count": 6,
   "metadata": {},
   "outputs": [
    {
     "name": "stdout",
     "output_type": "stream",
     "text": [
      "Amount of data: 3164\n"
     ]
    }
   ],
   "source": [
    "Data = df.values\n",
    "# m = number of input samples\n",
    "m = Data.shape[0]\n",
    "print(\"Amount of data:\",m)\n",
    "Y = Data[:m,2]\n",
    "X = Data[:m,3:]"
   ]
  },
  {
   "cell_type": "markdown",
   "metadata": {},
   "source": [
    "## Data Pre-Processing\n",
    "\n",
    "We split the data into 3 parts: one will be used for training and choosing the parameters, one for choosing among different models, and one for testing. The part for training and choosing the parameters will consist of $m_{train}=200$ samples, the one for choosing among different models will consist of $m_{val}=100$ sampels, while the other part consists of $m_{test}=m - m_{traing} - m_{val}$ samples ($m$ is the total number of samples in the data)."
   ]
  },
  {
   "cell_type": "code",
   "execution_count": 7,
   "metadata": {
    "scrolled": true
   },
   "outputs": [
    {
     "name": "stdout",
     "output_type": "stream",
     "text": [
      "Amount of data for training and deciding parameters: 2109\n",
      "Amount of data for validation (choosing among different models): 527\n",
      "Amount of data for test: 528\n"
     ]
    }
   ],
   "source": [
    "# Split data into train (2/3 of samples), validation (1/6 of samples), and test data (the rest)\n",
    "m_train = int(2./3.*m)\n",
    "m_val = int((m-m_train)/2.)\n",
    "m_test = m - m_train - m_val\n",
    "print(\"Amount of data for training and deciding parameters:\",m_train)\n",
    "print(\"Amount of data for validation (choosing among different models):\",m_val)\n",
    "print(\"Amount of data for test:\",m_test)\n",
    "from sklearn.model_selection import train_test_split\n",
    "\n",
    "Xtrain_and_val, Xtest, Ytrain_and_val, Ytest = train_test_split(X, Y, test_size=m_test/m, random_state=numero_di_matricola)\n",
    "Xtrain, Xval, Ytrain, Yval = train_test_split(Xtrain_and_val, Ytrain_and_val, test_size=m_val/(m_train+m_val), random_state=numero_di_matricola)"
   ]
  },
  {
   "cell_type": "markdown",
   "metadata": {},
   "source": [
    "Let's standardize the data."
   ]
  },
  {
   "cell_type": "code",
   "execution_count": 14,
   "metadata": {},
   "outputs": [
    {
     "name": "stderr",
     "output_type": "stream",
     "text": [
      "c:\\users\\ye jian_cheng\\appdata\\local\\programs\\python\\python36\\lib\\site-packages\\sklearn\\utils\\validation.py:595: DataConversionWarning: Data with input dtype object was converted to float64 by StandardScaler.\n",
      "  warnings.warn(msg, DataConversionWarning)\n",
      "c:\\users\\ye jian_cheng\\appdata\\local\\programs\\python\\python36\\lib\\site-packages\\sklearn\\utils\\validation.py:595: DataConversionWarning: Data with input dtype object was converted to float64 by StandardScaler.\n",
      "  warnings.warn(msg, DataConversionWarning)\n",
      "c:\\users\\ye jian_cheng\\appdata\\local\\programs\\python\\python36\\lib\\site-packages\\sklearn\\utils\\validation.py:595: DataConversionWarning: Data with input dtype object was converted to float64 by StandardScaler.\n",
      "  warnings.warn(msg, DataConversionWarning)\n",
      "c:\\users\\ye jian_cheng\\appdata\\local\\programs\\python\\python36\\lib\\site-packages\\sklearn\\utils\\validation.py:595: DataConversionWarning: Data with input dtype object was converted to float64 by StandardScaler.\n",
      "  warnings.warn(msg, DataConversionWarning)\n",
      "c:\\users\\ye jian_cheng\\appdata\\local\\programs\\python\\python36\\lib\\site-packages\\sklearn\\utils\\validation.py:595: DataConversionWarning: Data with input dtype object was converted to float64 by StandardScaler.\n",
      "  warnings.warn(msg, DataConversionWarning)\n"
     ]
    }
   ],
   "source": [
    "# Data pre-processing\n",
    "from sklearn import preprocessing\n",
    "scaler = preprocessing.StandardScaler().fit(Xtrain)\n",
    "Xtrain_scaled = scaler.transform(Xtrain)\n",
    "Xtrain_and_val_scaled = scaler.transform(Xtrain_and_val)\n",
    "Xval_scaled = scaler.transform(Xval)\n",
    "Xtest_scaled = scaler.transform(Xtest)"
   ]
  },
  {
   "cell_type": "markdown",
   "metadata": {},
   "source": [
    "## Neural Networks\n",
    "Let's start by learning a simple neural network with 1 hidden node.\n",
    "Note: we are going to use the input parameter solver='lbfgs' and random_state=numero_di_matricola to fix the random seed (so results are reproducible)."
   ]
  },
  {
   "cell_type": "code",
   "execution_count": 33,
   "metadata": {},
   "outputs": [
    {
     "name": "stdout",
     "output_type": "stream",
     "text": [
      "0.26394806284280103\n",
      "0.3040363567486182\n"
     ]
    },
    {
     "ename": "AttributeError",
     "evalue": "'MLPRegressor' object has no attribute 'coef'",
     "output_type": "error",
     "traceback": [
      "\u001b[1;31m--------------------------------------------------------------\u001b[0m",
      "\u001b[1;31mAttributeError\u001b[0m               Traceback (most recent call last)",
      "\u001b[1;32m<ipython-input-33-d14cbc683ab3>\u001b[0m in \u001b[0;36m<module>\u001b[1;34m\u001b[0m\n\u001b[0;32m     23\u001b[0m \u001b[1;31m#COMPLETE\u001b[0m\u001b[1;33m\u001b[0m\u001b[1;33m\u001b[0m\u001b[1;33m\u001b[0m\u001b[0m\n\u001b[0;32m     24\u001b[0m \u001b[1;33m\u001b[0m\u001b[0m\n\u001b[1;32m---> 25\u001b[1;33m \u001b[0mprint\u001b[0m\u001b[1;33m(\u001b[0m\u001b[0mmlp\u001b[0m\u001b[1;33m.\u001b[0m\u001b[0mcoef\u001b[0m\u001b[1;33m)\u001b[0m\u001b[1;33m\u001b[0m\u001b[1;33m\u001b[0m\u001b[0m\n\u001b[0m\u001b[0;32m     26\u001b[0m \u001b[1;33m\u001b[0m\u001b[0m\n\u001b[0;32m     27\u001b[0m \u001b[1;31m#let's print the coefficient for the bias (i.e., the bias)\u001b[0m\u001b[1;33m\u001b[0m\u001b[1;33m\u001b[0m\u001b[1;33m\u001b[0m\u001b[0m\n",
      "\u001b[1;31mAttributeError\u001b[0m: 'MLPRegressor' object has no attribute 'coef'"
     ]
    }
   ],
   "source": [
    "#let's load the MLPRegressor\n",
    "from sklearn.neural_network import MLPRegressor\n",
    "#COMPLETE\n",
    "\n",
    "#let's define the model\n",
    "#COMPLETE\n",
    "mlp = MLPRegressor( hidden_layer_sizes=(1,), solver='lbfgs',random_state=numero_di_matricola)\n",
    "\n",
    "#let's learn the model on training data\n",
    "#COMPLETE\n",
    "mlp.fit(Xtrain_scaled,Ytrain)\n",
    "\n",
    "#let's print the error (1 - R^2) on training data\n",
    "#COMPLETE\n",
    "print(1-mlp.score(Xtrain_scaled,Ytrain))\n",
    "\n",
    "#let's print the error (1 - R^2) on validation data\n",
    "#COMPLETE\n",
    "print(1-mlp.score(Xval_scaled,Yval))\n",
    "\n",
    "\n",
    "#let's print the coefficients of the model for the input nodes (but not the bias)\n",
    "#COMPLETE\n",
    "\n",
    "print()\n",
    "\n",
    "#let's print the coefficient for the bias (i.e., the bias)\n",
    "#COMPLETE"
   ]
  },
  {
   "cell_type": "markdown",
   "metadata": {},
   "source": [
    "## Neural Networks vs Linear Models\n",
    "\n",
    "Let's learn a linear model on the other same data and compare the results with the simple NN above."
   ]
  },
  {
   "cell_type": "code",
   "execution_count": 34,
   "metadata": {},
   "outputs": [
    {
     "name": "stdout",
     "output_type": "stream",
     "text": [
      "0.2653594216072852\n",
      "0.31154005065179713\n"
     ]
    }
   ],
   "source": [
    "#COMPLETE\n",
    "from sklearn import linear_model\n",
    "\n",
    "LR = linear_model.LinearRegression()\n",
    "\n",
    "LR.fit(Xtrain_scaled,Ytrain)\n",
    "\n",
    "print(1-LR.score(Xtrain_scaled,Ytrain))  #sembra quasi uguale contro NN , ma ora stiamo usando solo 1 lv di hidden\n",
    "print(1-LR.score(Xval_scaled,Yval))\n",
    "\n",
    "\n"
   ]
  },
  {
   "cell_type": "markdown",
   "metadata": {},
   "source": [
    "Is there a way to make a NN network learn a linear model?\n",
    "\n",
    "Let's first check what the loss used by MLPRegressor..."
   ]
  },
  {
   "cell_type": "code",
   "execution_count": 36,
   "metadata": {},
   "outputs": [
    {
     "name": "stdout",
     "output_type": "stream",
     "text": [
      "0.26535942166590454\n",
      "0.31153906582827584\n"
     ]
    }
   ],
   "source": [
    "#let's write the code to learn a linear model with NN: how? \n",
    "\n",
    "\n",
    "\n",
    "#let's define the model\n",
    "#COMPLETE\n",
    "mlp_lr = MLPRegressor(activation=\"identity\", hidden_layer_sizes=(1,), solver='lbfgs',random_state=numero_di_matricola)\n",
    "\n",
    "#let's learn the model on training data\n",
    "#COMPLETE\n",
    "mlp_lr.fit(Xtrain_scaled,Ytrain)\n",
    "\n",
    "#let's print the error (1 - R^2) on training data\n",
    "#COMPLETE\n",
    "print(1-mlp_lr.score(Xtrain_scaled,Ytrain))\n",
    "\n",
    "#let's print the error (1 - R^2) on validation data\n",
    "#COMPLETE\n",
    "print(1-mlp_lr.score(Xval_scaled,Yval))\n",
    "\n",
    "\n",
    "#let's print the coefficients of the model for the input nodes (but not the bias)\n",
    "#COMPLETE\n",
    "\n",
    "\n",
    "#let's print the coefficient for the bias (i.e., the bias)\n",
    "#COMPLETE"
   ]
  },
  {
   "cell_type": "markdown",
   "metadata": {},
   "source": [
    "Note that there is an $\\ell_2$ regularization term in MLPRegressor. What about making it smaller?"
   ]
  },
  {
   "cell_type": "code",
   "execution_count": null,
   "metadata": {},
   "outputs": [],
   "source": [
    "#COMPLETE\n"
   ]
  },
  {
   "cell_type": "markdown",
   "metadata": {},
   "source": [
    "## More Complex NNs\n",
    "\n",
    "Let's try more complex NN, for example increasing the number of nodes in the only hidden layer, or increasing the number of hidden layers."
   ]
  },
  {
   "cell_type": "markdown",
   "metadata": {},
   "source": [
    "Let's build a NN with 2 nodes in the only hidden layer"
   ]
  },
  {
   "cell_type": "code",
   "execution_count": 41,
   "metadata": {},
   "outputs": [
    {
     "name": "stdout",
     "output_type": "stream",
     "text": [
      "0.1806210993318602\n",
      "0.20717593567312298\n",
      "\n",
      "[array([[  90.94444616,  -33.28552016],\n",
      "       [ 120.43582352,   39.27397526],\n",
      "       [  85.72596974,   73.02321985],\n",
      "       [-260.73216517,   28.23082502],\n",
      "       [ -30.61946944,   17.91879387],\n",
      "       [ 197.93583314,   25.74316718],\n",
      "       [  34.85102099,   37.58132011],\n",
      "       [  96.99911508,   25.69307262],\n",
      "       [ 312.49981552,  132.88817726],\n",
      "       [  84.99933746,   68.80207161],\n",
      "       [  19.22034443,   23.3877702 ],\n",
      "       [-217.46361697,  -81.19448233],\n",
      "       [  -3.50491043,   20.12376626],\n",
      "       [-301.24818082,  -26.37313296],\n",
      "       [ 305.61509796,  144.58554281],\n",
      "       [-463.82836532,  -16.38106491],\n",
      "       [ 194.58330427,   52.91201625],\n",
      "       [-251.41618167,  -11.12454193]]), array([[614.52723188],\n",
      "       [548.84063332]])]\n",
      "\n",
      "\n",
      "[array([-1049.73636775,   897.62979725]), array([725.97349584])]\n"
     ]
    }
   ],
   "source": [
    "#let's build a NN with 2 nodes in the only hidden layer\n",
    "\n",
    "#let's load the MLPRegressor\n",
    "from sklearn.neural_network import MLPRegressor\n",
    "#COMPLETE\n",
    "\n",
    "#let's define the model\n",
    "#COMPLETE                                 #2 neuron ora!\n",
    "mlp_2 = MLPRegressor( hidden_layer_sizes=(2,), solver='lbfgs',random_state=numero_di_matricola)\n",
    "\n",
    "#let's learn the model on training data\n",
    "#COMPLETE\n",
    "mlp_2.fit(Xtrain_scaled,Ytrain)\n",
    "\n",
    "#let's print the error (1 - R^2) on training data\n",
    "#COMPLETE\n",
    "print(1-mlp_2.score(Xtrain_scaled,Ytrain))\n",
    "\n",
    "#let's print the error (1 - R^2) on validation data\n",
    "#COMPLETE\n",
    "print(1-mlp_2.score(Xval_scaled,Yval))\n",
    "\n",
    "\n",
    "#let's print the coefficients of the model for the input nodes (but not the bias)\n",
    "#COMPLETE\n",
    "\n",
    "\n",
    "print()\n",
    "print(mlp_2.coefs_)\n",
    "#let's print the coefficient for the bias (i.e., the bias)\n",
    "#COMPLETE\n",
    "print(\"\\n\")\n",
    "print(mlp_2.intercepts_)"
   ]
  },
  {
   "cell_type": "markdown",
   "metadata": {},
   "source": [
    "Let's build a NN with 5 nodes in the only hidden layer"
   ]
  },
  {
   "cell_type": "code",
   "execution_count": 46,
   "metadata": {},
   "outputs": [
    {
     "name": "stdout",
     "output_type": "stream",
     "text": [
      "0.13664362354439552\n",
      "0.25413784604076395\n",
      "\n",
      "[array([[ -300.7667012 ,    54.75147778,    67.7306866 ,   255.33607479,\n",
      "          -49.96007189],\n",
      "       [ 1131.24241639,   796.15440742,   111.45391584,  -247.68810333,\n",
      "         -131.14710375],\n",
      "       [ -490.39678117,  -125.33384109,   221.02722386,  -517.00664977,\n",
      "          519.29059262],\n",
      "       [  433.24658816,  -915.21431421,  -141.01561402,  -995.73249174,\n",
      "           92.77935017],\n",
      "       [  456.21648517,  -199.13594135,   454.52704375,   271.04131337,\n",
      "         -184.2190048 ],\n",
      "       [ -853.51202911,   287.26292679,   979.01246891,  -583.79838598,\n",
      "         -267.59308221],\n",
      "       [ -222.52684352,   419.85473515,  -258.43636718,  -145.86630233,\n",
      "          188.8092216 ],\n",
      "       [ -497.07905616,   633.42057583,  -123.84152497,   575.74394013,\n",
      "           50.3235469 ],\n",
      "       [ -104.10822262,  1004.8333307 ,   973.24427814,   292.24437783,\n",
      "          497.88542021],\n",
      "       [ -513.24947974,   123.22928628,   -26.44402102,  -556.6753703 ,\n",
      "          504.09028556],\n",
      "       [  -59.08326551,  -476.19273023,   494.24254719,   -34.98704786,\n",
      "          133.91141614],\n",
      "       [ 1323.68221146,  -379.90663336,  -440.93118554, -1799.22397096,\n",
      "         -176.10012397],\n",
      "       [ -697.30928668,   466.45106516, -1719.95962314, -1306.43867064,\n",
      "          428.33710589],\n",
      "       [  387.8485172 , -1830.71223624,    96.56766165,  -252.81675009,\n",
      "         -143.75450925],\n",
      "       [ -165.45690308,   824.89821737,   968.04920504,   -77.05983525,\n",
      "          617.35693587],\n",
      "       [  550.13096589, -1397.40273658,  -975.14733554,   -94.21701021,\n",
      "         -196.88222038],\n",
      "       [-1051.5931455 ,   657.67459308,   139.50330766,  1059.55773903,\n",
      "          312.08825068],\n",
      "       [  167.92424742,   385.15841503, -1226.00564218,   485.77368316,\n",
      "         -169.75790893]]), array([[ 43.06451568],\n",
      "       [127.48947186],\n",
      "       [212.18892216],\n",
      "       [ 60.44818121],\n",
      "       [143.92528916]])]\n",
      "\n",
      "\n",
      "[array([ 2648.11763483, -3548.84482436, -3951.53752129,   537.40431541,\n",
      "        1993.31474963]), array([306.6664341])]\n"
     ]
    }
   ],
   "source": [
    "#let's build a NN with 2 nodes in the only hidden layer\n",
    "\n",
    "#let's load the MLPRegressor\n",
    "from sklearn.neural_network import MLPRegressor\n",
    "#COMPLETE\n",
    "\n",
    "#let's define the model\n",
    "#COMPLETE                                 #5 neuron ora!\n",
    "mlp_5 = MLPRegressor( hidden_layer_sizes=(5,), solver='lbfgs',random_state=numero_di_matricola, max_iter=2000)\n",
    "\n",
    "#let's learn the model on training data\n",
    "#COMPLETE\n",
    "mlp_5.fit(Xtrain_scaled,Ytrain)\n",
    "\n",
    "#let's print the error (1 - R^2) on training data\n",
    "#COMPLETE\n",
    "print(1-mlp_5.score(Xtrain_scaled,Ytrain))\n",
    "\n",
    "#let's print the error (1 - R^2) on validation data\n",
    "#COMPLETE\n",
    "print(1-mlp_5.score(Xval_scaled,Yval))\n",
    "\n",
    "\n",
    "#let's print the coefficients of the model for the input nodes (but not the bias)\n",
    "#COMPLETE\n",
    "\n",
    "\n",
    "print()\n",
    "print(mlp_5.coefs_)\n",
    "#let's print the coefficient for the bias (i.e., the bias)\n",
    "#COMPLETE\n",
    "print(\"\\n\")\n",
    "print(mlp_5.intercepts_)"
   ]
  },
  {
   "cell_type": "markdown",
   "metadata": {},
   "source": [
    "Note that with a smaller number of iterations we had a larger error on training set but a smaller error on validation data -> \"early stopping is a form of regularization\""
   ]
  },
  {
   "cell_type": "markdown",
   "metadata": {},
   "source": [
    "Let's build a NN with 10 nodes in the only hidden layer"
   ]
  },
  {
   "cell_type": "code",
   "execution_count": null,
   "metadata": {},
   "outputs": [],
   "source": [
    "#let's build a NN with 10 nodes in the only hidden layer\n",
    "\n",
    "#COMPLETE\n",
    "\n",
    "\n"
   ]
  },
  {
   "cell_type": "markdown",
   "metadata": {},
   "source": [
    "Let's build a NN with 100 nodes in the only hidden layer. Note that this is the default!"
   ]
  },
  {
   "cell_type": "code",
   "execution_count": 48,
   "metadata": {},
   "outputs": [
    {
     "name": "stdout",
     "output_type": "stream",
     "text": [
      "0.03416996923430027\n",
      "0.49983304231900116\n",
      "\n",
      "[array([[  95.25588116,  -22.7886301 ,   75.61688708, ..., -128.3612118 ,\n",
      "         161.30259737,  -95.56184593],\n",
      "       [   2.84475615,   72.49909303,   88.22852186, ...,   23.18757952,\n",
      "         -22.12989414,  -44.05383252],\n",
      "       [ -76.82094744,  -72.99178865,  100.37969239, ...,   31.4084147 ,\n",
      "         237.11780187,   47.50010628],\n",
      "       ...,\n",
      "       [  53.3374462 ,  -57.25235726,   67.65019063, ..., -366.43263315,\n",
      "          54.52470578,  -36.19268164],\n",
      "       [ -46.3206384 ,   80.31739395,  152.87310739, ..., -104.47842965,\n",
      "         -69.890179  ,  -52.29491028],\n",
      "       [  16.90239342, -170.92566356,   44.63398733, ...,   62.25319319,\n",
      "          -3.23820555,   13.18649332]]), array([[ 1.09433608e+02],\n",
      "       [ 3.56957495e+01],\n",
      "       [-1.33052433e+01],\n",
      "       [-3.59450480e+01],\n",
      "       [ 1.89953513e+02],\n",
      "       [ 4.84067226e+01],\n",
      "       [ 6.67162640e+01],\n",
      "       [ 2.93785465e+02],\n",
      "       [-2.53040163e+02],\n",
      "       [-1.80986102e+02],\n",
      "       [ 4.26188857e+01],\n",
      "       [-3.17128363e+02],\n",
      "       [ 1.78687702e+02],\n",
      "       [ 1.17183229e+02],\n",
      "       [ 2.59297162e+01],\n",
      "       [ 1.33810279e+02],\n",
      "       [ 5.68239790e+02],\n",
      "       [-6.64274474e+01],\n",
      "       [-7.14077477e+01],\n",
      "       [ 1.58049558e+02],\n",
      "       [-2.50603821e+02],\n",
      "       [ 1.21828426e+02],\n",
      "       [ 1.61700377e+02],\n",
      "       [ 2.64710107e+02],\n",
      "       [ 4.37408981e+02],\n",
      "       [-3.58628462e+02],\n",
      "       [ 6.23662592e+01],\n",
      "       [-2.80020327e+02],\n",
      "       [ 9.29566146e+01],\n",
      "       [ 1.59858492e+02],\n",
      "       [ 1.22818647e+02],\n",
      "       [-6.20183307e+02],\n",
      "       [ 3.64021628e+02],\n",
      "       [ 6.26192499e+02],\n",
      "       [-3.31004413e+02],\n",
      "       [ 1.71069273e+02],\n",
      "       [ 1.11384558e+02],\n",
      "       [-5.55930455e+01],\n",
      "       [ 9.06574248e+01],\n",
      "       [ 1.24333634e+01],\n",
      "       [ 1.31789040e+02],\n",
      "       [ 6.96182036e+01],\n",
      "       [ 5.80522696e+02],\n",
      "       [ 2.29017321e+02],\n",
      "       [ 7.16926298e+01],\n",
      "       [-2.07806858e+00],\n",
      "       [-2.44319312e+02],\n",
      "       [-9.34675049e+01],\n",
      "       [ 7.29248874e+00],\n",
      "       [-2.29014285e+01],\n",
      "       [ 8.78547385e+02],\n",
      "       [ 2.28552716e+02],\n",
      "       [ 2.07903419e+02],\n",
      "       [ 1.72554785e+02],\n",
      "       [ 2.60408098e+02],\n",
      "       [-4.39543460e+01],\n",
      "       [-1.33019903e+02],\n",
      "       [ 1.25328541e+02],\n",
      "       [ 9.14477943e+01],\n",
      "       [ 5.34885694e+01],\n",
      "       [ 1.40800243e+02],\n",
      "       [ 3.25194768e+02],\n",
      "       [-3.25266103e+02],\n",
      "       [-1.74459993e+01],\n",
      "       [ 2.35341578e+02],\n",
      "       [ 5.91017863e-01],\n",
      "       [ 3.31821477e+01],\n",
      "       [-1.43497665e+02],\n",
      "       [-3.40317505e+02],\n",
      "       [-1.16251493e+02],\n",
      "       [ 4.08492491e+02],\n",
      "       [-2.19521883e+02],\n",
      "       [-2.96462388e+02],\n",
      "       [ 9.31891636e+01],\n",
      "       [-4.09325472e+02],\n",
      "       [ 1.47594930e+02],\n",
      "       [ 2.12058868e+02],\n",
      "       [ 2.19581274e+02],\n",
      "       [-2.26496608e+02],\n",
      "       [ 1.48173362e+02],\n",
      "       [ 9.44593438e+01],\n",
      "       [ 1.89774271e+02],\n",
      "       [ 1.65668714e+02],\n",
      "       [ 1.62266189e+02],\n",
      "       [ 1.91521188e+02],\n",
      "       [-1.81871501e+02],\n",
      "       [-1.39442961e+02],\n",
      "       [ 2.03620505e+02],\n",
      "       [-2.29783226e+02],\n",
      "       [-2.47569069e+02],\n",
      "       [ 1.42420708e+02],\n",
      "       [ 3.51391542e+02],\n",
      "       [ 2.94488142e+02],\n",
      "       [ 1.44086804e+02],\n",
      "       [-1.81800232e+02],\n",
      "       [ 3.04269783e+02],\n",
      "       [-1.30263731e+01],\n",
      "       [-3.75257247e+02],\n",
      "       [-2.81026770e+02],\n",
      "       [ 2.75457163e+02]])]\n",
      "\n",
      "\n",
      "[array([  275.30471316,    18.01582963,    43.14439575,  -184.41839117,\n",
      "          36.42244202,    92.17209066,   -57.73857098,  -531.42162406,\n",
      "          76.47586339,    29.08730357,  -129.48922901,  -151.25539465,\n",
      "         130.27631363,    53.66091795,  -235.72199022,    61.95062847,\n",
      "        -781.43640193,  -219.98797054,    16.74926654,   309.97957572,\n",
      "         148.30650332,  -269.68294427,   263.88242081,   304.27726231,\n",
      "         182.79674722,  -640.86513386,  -112.32826237,   207.26474851,\n",
      "           6.23644056,  -465.07091096,   170.78511076,  -355.49721663,\n",
      "        -194.83354427,  -710.50415652,  -481.41510904,   102.20881526,\n",
      "         217.73687304,    16.1842781 ,   119.63018195,    84.0945542 ,\n",
      "        -112.81069808,  -117.55128717,  -881.87420992,   144.02479278,\n",
      "          56.02057734,   -86.14562565,    50.852889  ,   283.45512804,\n",
      "        -195.83789521,   131.65578087, -1199.3518696 ,   377.82481373,\n",
      "          36.12944735,   124.52162175,  -270.14353318,    46.77177028,\n",
      "          58.88024309,    13.5476792 ,   -29.38813491,  -114.55210179,\n",
      "         253.32510339,   -71.52605894,   -68.94226742,  -179.54083767,\n",
      "        -345.10402   ,    26.44304562,   -57.15524683,   -98.27006782,\n",
      "          54.75399494,  -130.60506212,  -364.91226807,   157.40935352,\n",
      "         -58.34105839,  -191.73238957,   348.25619218,   129.00603128,\n",
      "         -59.81363862,  -339.9511565 ,   -64.41320135,  -116.10840715,\n",
      "         -44.58145568,  -283.08924334,  -498.31491499,   484.05433246,\n",
      "         -91.31454471,   188.96840107,   133.8517377 ,  -339.59711505,\n",
      "         -31.74182681,   320.51626794,   247.78679721,   524.11907682,\n",
      "        -442.96552826,  -155.1677575 ,  -161.23005886,  -486.09982623,\n",
      "        -122.00269006,  -204.49055754,  -350.49724854,   554.00977979]), array([329.02338316])]\n"
     ]
    }
   ],
   "source": [
    "#let's build a NN with 100 nodes in the only hidden layer\n",
    "\n",
    "#let's build a NN with 2 nodes in the only hidden layer\n",
    "\n",
    "#let's load the MLPRegressor\n",
    "from sklearn.neural_network import MLPRegressor\n",
    "#COMPLETE\n",
    "\n",
    "#let's define the model\n",
    "#COMPLETE                                 #100neuron ora!\n",
    "#mlp_100 = MLPRegressor( hidden_layer_sizes=(100,), solver='lbfgs',random_state=numero_di_matricola,max_iter=2000)\n",
    "\n",
    "mlp_100 = MLPRegressor( hidden_layer_sizes=(100,), solver='lbfgs',random_state=numero_di_matricola) #OVERFITA!\n",
    "#OVERFITA CON  100 HIDDEN :(\n",
    "\n",
    "#let's learn the model on training data\n",
    "#COMPLETE\n",
    "mlp_100.fit(Xtrain_scaled,Ytrain)\n",
    "\n",
    "#let's print the error (1 - R^2) on training data\n",
    "#COMPLETE\n",
    "print(1-mlp_100.score(Xtrain_scaled,Ytrain))\n",
    "\n",
    "#let's print the error (1 - R^2) on validation data\n",
    "#COMPLETE\n",
    "print(1-mlp_100.score(Xval_scaled,Yval))\n",
    "\n",
    "\n",
    "#let's print the coefficients of the model for the input nodes (but not the bias)\n",
    "#COMPLETE\n",
    "\n",
    "\n",
    "print()\n",
    "print(mlp_100.coefs_)\n",
    "#let's print the coefficient for the bias (i.e., the bias)\n",
    "#COMPLETE\n",
    "print(\"\\n\")\n",
    "print(mlp_100.intercepts_)"
   ]
  },
  {
   "cell_type": "markdown",
   "metadata": {},
   "source": [
    "Let's try 2 layers, 1 node each"
   ]
  },
  {
   "cell_type": "code",
   "execution_count": 49,
   "metadata": {},
   "outputs": [
    {
     "name": "stdout",
     "output_type": "stream",
     "text": [
      "0.23875762736665962\n",
      "0.27339161369531606\n",
      "\n",
      "[array([[ -27.19698594],\n",
      "       [  87.83999419],\n",
      "       [ 153.01244276],\n",
      "       [ -44.46769149],\n",
      "       [  -4.36214061],\n",
      "       [ 181.91552817],\n",
      "       [  69.41835627],\n",
      "       [  66.65893243],\n",
      "       [ 281.00406944],\n",
      "       [ 146.41972821],\n",
      "       [  44.33489486],\n",
      "       [-182.55055935],\n",
      "       [  10.74922157],\n",
      "       [-130.42300629],\n",
      "       [ 265.65021182],\n",
      "       [-181.92391268],\n",
      "       [  96.50417522],\n",
      "       [ -36.6158884 ]]), array([[1.25588866]]), array([[441.06306637]])]\n",
      "\n",
      "\n",
      "[array([144.28881056]), array([758.51923652]), array([482.96915201])]\n"
     ]
    }
   ],
   "source": [
    "#let's build a NN with 2 hidden layers, 1 node each\n",
    "\n",
    "#let's build a NN with 100 nodes in the only hidden layer\n",
    "\n",
    "#let's build a NN with 2 nodes in the only hidden layer\n",
    "\n",
    "#let's load the MLPRegressor\n",
    "from sklearn.neural_network import MLPRegressor\n",
    "#COMPLETE\n",
    "\n",
    "#let's define the model\n",
    "#COMPLETE                                 #100neuron ora!\n",
    "#mlp_100 = MLPRegressor( hidden_layer_sizes=(100,), solver='lbfgs',random_state=numero_di_matricola,max_iter=2000)\n",
    "\n",
    "mlp_2layer = MLPRegressor( hidden_layer_sizes=(1,1), solver='lbfgs',random_state=numero_di_matricola) #OVERFITA!\n",
    "#OVERFITA CON  100 HIDDEN :(\n",
    "\n",
    "#let's learn the model on training data\n",
    "#COMPLETE\n",
    "mlp_2layer.fit(Xtrain_scaled,Ytrain)\n",
    "\n",
    "#let's print the error (1 - R^2) on training data\n",
    "#COMPLETE\n",
    "print(1-mlp_2layer.score(Xtrain_scaled,Ytrain))\n",
    "\n",
    "#let's print the error (1 - R^2) on validation data\n",
    "#COMPLETE\n",
    "print(1-mlp_2layer.score(Xval_scaled,Yval))\n",
    "\n",
    "\n",
    "#let's print the coefficients of the model for the input nodes (but not the bias)\n",
    "#COMPLETE\n",
    "\n",
    "\n",
    "print()\n",
    "print(mlp_2layer.coefs_)\n",
    "#let's print the coefficient for the bias (i.e., the bias)\n",
    "#COMPLETE\n",
    "print(\"\\n\")\n",
    "print(mlp_2layer.intercepts_)\n"
   ]
  },
  {
   "cell_type": "markdown",
   "metadata": {},
   "source": [
    "Let's try 2 layers, 2 nodes each"
   ]
  },
  {
   "cell_type": "code",
   "execution_count": null,
   "metadata": {},
   "outputs": [],
   "source": [
    "#let's build a NN with 2 layers, 2 nodes each\n",
    "\n",
    "#COMPLETE"
   ]
  },
  {
   "cell_type": "markdown",
   "metadata": {},
   "source": [
    "Let's try 2 layers, 10 nodes each"
   ]
  },
  {
   "cell_type": "code",
   "execution_count": null,
   "metadata": {},
   "outputs": [],
   "source": [
    "#let's build a NN with 2 layers, 10 nodes each\n",
    "\n",
    "#COMPLETE"
   ]
  },
  {
   "cell_type": "markdown",
   "metadata": {},
   "source": [
    "Let's try 2 layers, 100 nodes each"
   ]
  },
  {
   "cell_type": "code",
   "execution_count": null,
   "metadata": {},
   "outputs": [],
   "source": [
    "#let's build a NN with 2 layers, 100 nodes each\n",
    "\n",
    "#COMPLETE"
   ]
  },
  {
   "cell_type": "markdown",
   "metadata": {},
   "source": [
    "So it seems that 1 layer (and default number of iterations) works best for this dataset. Let's try 5-fold cross-validation with number of nodes in the hidden layer between 1 and 20.\n",
    "Note that we use train and validation data together, since we are doing cross-validation."
   ]
  },
  {
   "cell_type": "code",
   "execution_count": null,
   "metadata": {},
   "outputs": [],
   "source": [
    "from sklearn.model_selection import GridSearchCV\n",
    "\n",
    "#COMPLETE. \n",
    "\n",
    "\n",
    "\n"
   ]
  },
  {
   "cell_type": "markdown",
   "metadata": {},
   "source": [
    "Now let's check what is the best parameter, and compare the best NNs with the linear model (learned on train and validation) on test data."
   ]
  },
  {
   "cell_type": "code",
   "execution_count": null,
   "metadata": {},
   "outputs": [],
   "source": [
    "#let's print the best model according to grid search\n",
    "#COMPLETE\n",
    "\n",
    "#let's print the error 1-R^2 for the best model\n",
    "#COMPLETE"
   ]
  },
  {
   "cell_type": "markdown",
   "metadata": {},
   "source": [
    "Let compare the error of the best NN on train and validation and on test data."
   ]
  },
  {
   "cell_type": "code",
   "execution_count": null,
   "metadata": {},
   "outputs": [],
   "source": [
    "#COMPLETE"
   ]
  },
  {
   "cell_type": "markdown",
   "metadata": {},
   "source": [
    "Now let's learn the linear model on train and validation, and get error (1-R^2) on train and validation and on test data."
   ]
  },
  {
   "cell_type": "code",
   "execution_count": null,
   "metadata": {},
   "outputs": [],
   "source": [
    "#COMPLETE"
   ]
  },
  {
   "cell_type": "markdown",
   "metadata": {},
   "source": [
    "Note: MLPRegressor has several other parameters!"
   ]
  }
 ],
 "metadata": {
  "kernelspec": {
   "display_name": "Python 3",
   "language": "python",
   "name": "python3"
  },
  "language_info": {
   "codemirror_mode": {
    "name": "ipython",
    "version": 3
   },
   "file_extension": ".py",
   "mimetype": "text/x-python",
   "name": "python",
   "nbconvert_exporter": "python",
   "pygments_lexer": "ipython3",
   "version": "3.6.7"
  }
 },
 "nbformat": 4,
 "nbformat_minor": 4
}
